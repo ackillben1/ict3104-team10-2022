{
 "cells": [
  {
   "cell_type": "markdown",
   "metadata": {},
   "source": [
    "# Installations & Util"
   ]
  },
  {
   "cell_type": "markdown",
   "metadata": {},
   "source": [
    "## Install Requirements"
   ]
  },
  {
   "cell_type": "code",
   "execution_count": null,
   "metadata": {},
   "outputs": [],
   "source": [
    "! pip install -r requirements.txt"
   ]
  },
  {
   "cell_type": "markdown",
   "metadata": {},
   "source": [
    "## Show Packages"
   ]
  },
  {
   "cell_type": "code",
   "execution_count": null,
   "metadata": {},
   "outputs": [],
   "source": [
    "!pip freeze"
   ]
  },
  {
   "cell_type": "markdown",
   "metadata": {},
   "source": [
    "## Code Hiding"
   ]
  },
  {
   "cell_type": "code",
   "execution_count": null,
   "metadata": {
    "init_cell": true
   },
   "outputs": [],
   "source": [
    "import ipywidgets as widgets\n",
    "from IPython.display import display, HTML\n",
    "# ========== TOGGLE BTN ==========\n",
    "javascript_functions = {False: \"hide()\", True: \"show()\"}\n",
    "button_descriptions  = {False: \"Show code\", True: \"Hide code\"}\n",
    "\n",
    "def toggle_code(state):\n",
    "    \"\"\"\n",
    "    Toggles the JavaScript show()/hide() function on the div.input element.\n",
    "    \"\"\"\n",
    "    output_string = \"<script>$(\\\"div.input\\\").{}</script>\"\n",
    "    output_args   = (javascript_functions[state],)\n",
    "    output        = output_string.format(*output_args)\n",
    "    display(HTML(output))\n",
    "\n",
    "def button_action(value):\n",
    "    \"\"\"\n",
    "    Calls the toggle_code function and updates the button description.\n",
    "    \"\"\"\n",
    "    state = value.new\n",
    "    toggle_code(state)\n",
    "    value.owner.description = button_descriptions[state]\n",
    "    \n",
    "state = False\n",
    "toggle_code(state)\n",
    "\n",
    "button = widgets.ToggleButton(state, description = button_descriptions[state])\n",
    "button.observe(button_action, \"value\")\n",
    "# ========== END TOGGLE BTN END ==========\n",
    "display(button)"
   ]
  },
  {
   "cell_type": "markdown",
   "metadata": {},
   "source": [
    "# Data Exploration"
   ]
  },
  {
   "cell_type": "markdown",
   "metadata": {
    "heading_collapsed": true
   },
   "source": [
    "## File Upload"
   ]
  },
  {
   "cell_type": "code",
   "execution_count": null,
   "metadata": {
    "hidden": true,
    "init_cell": true
   },
   "outputs": [],
   "source": [
    "import ipywidgets as widgets\n",
    "from ipywidgets import Button\n",
    "from IPython.display import display, HTML\n",
    "from ipyfilechooser import FileChooser\n",
    "import zipfile as zf\n",
    "import shutil\n",
    "\n",
    "# https://thispointer.com/python-how-to-unzip-a-file-extract-single-multiple-or-all-files-from-a-zip-archive/#:~:text=Extract%20all%20files%20from%20a%20zip%20file%20to%20different%20directory,can%20be%20relative%20or%20absolute.&text=It%20will%20extract%20all%20the%20files%20in%20%27sample,zip%27%20in%20temp%20folder.\n",
    "\n",
    "# ===================== FileChooser =====================\n",
    "# Create and display a FileChooser widget\n",
    "fc = FileChooser('/Users')\n",
    "\n",
    "# === Change defaults and reset the dialog ===\n",
    "# fc.default_path = './'\n",
    "# fc.reset()\n",
    "\n",
    "# === Restrict navigation to /Users ===\n",
    "fc.sandbox_path = '/Users'\n",
    "\n",
    "# === Change hidden files ===\n",
    "fc.show_hidden = False\n",
    "\n",
    "# === Switch to folder-only mode ===\n",
    "fc.show_only_dirs = False\n",
    "\n",
    "# === Set multiple file filter patterns (uses https://docs.python.org/3/library/fnmatch.html) ===\n",
    "fc.filter_pattern = ['*.jpg', '*.png', '*.txt', '*.mp4', '*.zip', '*.json']\n",
    "# fc.filter_pattern = ['*.zip']\n",
    "\n",
    "# === Change the title (use '' to hide) ===\n",
    "fc.title = '<p>Select File (*.jpg, *.png, *.txt, *.mp4, *.json, *.zip)<br>Use *.zip for multiple file uploads.<br></p><hr>'\n",
    "\n",
    "# === Callback function ===\n",
    "# def change_display_selected(chooser):\n",
    "#     print(fc.selected_filename, end='\\r')\n",
    "\n",
    "# === Register callback function ===\n",
    "# fc.register_callback(change_display_selected)\n",
    "# ================ END FileChooser END ================\n",
    "# ================ BTN CLICK UPLOAD ================\n",
    "def on_button_clicked_upload(b):\n",
    "#     print(fc.selected)\n",
    "    fn = fc.selected_filename\n",
    "    outputPath = \"\"\n",
    "    if fn.endswith('.zip'):\n",
    "        fn = fc.selected_filename.replace('.zip', '')\n",
    "        outputPath = fn + \" has been extracted and uploaded to:\"\n",
    "#         files = zf.ZipFile(fc.selected_path+\"\\\\\"+fc.selected_filename, 'r')\n",
    "#         files.extractall('Data Folder\\\\'+fn)\n",
    "#         files.close()\n",
    "\n",
    "        with zf.ZipFile(fc.selected_path+\"\\\\\"+fc.selected_filename, 'r') as zipObj:\n",
    "           # Get a list of all archived file names from the zip\n",
    "            listOfFileNames = zipObj.namelist()\n",
    "           # Iterate over the file names\n",
    "            for fileName in listOfFileNames:\n",
    "                # Check filename endswith csv\n",
    "                if  fileName.endswith('.png') or fileName.endswith('.jpg') or fileName.endswith('.JPG'):\n",
    "                    # Extract a single file from zip\n",
    "                    zipObj.extract(fileName, 'Data Folder\\\\Images')\n",
    "                    outputPath += \"\\n\" + fileName + \" >> Data Folder\\\\Images\"\n",
    "                elif fileName.endswith('.mp4'):\n",
    "                    # Extract a single file from zip\n",
    "                    zipObj.extract(fileName, 'Data Folder\\\\Videos')\n",
    "                    outputPath += \"\\n\" + fileName + \" >> Data Folder\\\\Videos\"\n",
    "                elif fileName.endswith('.txt') or fileName.endswith('.csv') or fileName.endswith('.xlsx') or fileName.endswith('.json'):\n",
    "                    zipObj.extract(fileName, 'Data Folder\\\\Dataset')\n",
    "                    outputPath += \"\\n\" + fileName + \" >> Data Folder\\\\Dataset\"\n",
    "                else:\n",
    "                    zipObj.extract(fileName, 'Data Folder')\n",
    "                    outputPath += \"\\n\" + fileName + \" >> Data Folder\"\n",
    "    else:\n",
    "        if fn.endswith('.png') or fn.endswith('.jpg') or fn.endswith('.JPG'):\n",
    "            shutil.copyfile(fc.selected_path+\"\\\\\"+fc.selected_filename, 'Data Folder\\\\Images\\\\'+fc.selected_filename)\n",
    "            outputPath = fn + \" has been uploaded to >> Data Folder\\\\Images\"\n",
    "        elif fn.endswith('.mp4'):  \n",
    "            shutil.copyfile(fc.selected_path+\"\\\\\"+fc.selected_filename, 'Data Folder\\\\Videos\\\\'+fc.selected_filename)\n",
    "            outputPath = fn + \" has been uploaded to >> Data Folder\\\\Videos\"\n",
    "        elif fn.endswith('.txt') or fn.endswith('.csv') or fn.endswith('.xlsx') or fn.endswith('.json'):\n",
    "            shutil.copyfile(fc.selected_path+\"\\\\\"+fc.selected_filename, 'Data Folder\\\\Dataset\\\\'+fc.selected_filename)\n",
    "            outputPath = fn + \" has been uploaded to >> Data Folder\\\\Dataset\"\n",
    "        else:\n",
    "            shutil.copyfile(fc.selected_path+\"\\\\\"+fc.selected_filename, 'Data Folder\\\\'+fc.selected_filename)\n",
    "            outputPath = fn + \" has been uploaded to >> Data Folder\"\n",
    "    with output:\n",
    "#         print(fn + \" >> \" + outputPath + \".\")\n",
    "        print(\"***SUCCESS*** \\n\" + outputPath)\n",
    "# ================ BTN CLICK UPLOAD END ================\n",
    "# =============== CONFIRM BTN & OUTPUT ===============\n",
    "confirmBtn = widgets.Button(\n",
    "    description='Confirm Upload',\n",
    "    button_style='info', # 'success', 'info', 'warning', 'danger' or ''\n",
    "    tooltip='Confirm',\n",
    ")\n",
    "output = widgets.Output()\n",
    "confirmBtn.on_click(on_button_clicked_upload)\n",
    "# =============== CONFIRM BTN & OUTPUT END ===============\n",
    "display(fc)\n",
    "display(confirmBtn, output)"
   ]
  },
  {
   "cell_type": "markdown",
   "metadata": {
    "hidden": true
   },
   "source": [
    "### Testing Multi-Upload"
   ]
  },
  {
   "cell_type": "code",
   "execution_count": null,
   "metadata": {
    "hidden": true
   },
   "outputs": [],
   "source": [
    "from IPython.display import display, HTML\n",
    "import shutil\n",
    "\n",
    "display(HTML(\"\"\"\n",
    "    <!-- The `multiple` attribute lets users select multiple files. -->\n",
    "    <input type=\"file\" id=\"file-selector\" multiple>\n",
    "    <script>\n",
    "      const fileSelector = document.getElementById('file-selector');\n",
    "      fileSelector.addEventListener('change', (event) => {\n",
    "        const fileList = event.target.files;\n",
    "        console.log(fileList);\n",
    "      });\n",
    "        fileList.extractall('Data Folder\\\\'+fileList)\n",
    "        shutil.copyfile(fileList, 'Data Folder\\\\new')\n",
    "    </script>\n",
    "\"\"\"))"
   ]
  },
  {
   "cell_type": "code",
   "execution_count": null,
   "metadata": {
    "hidden": true
   },
   "outputs": [],
   "source": [
    "import ipywidgets as widgets\n",
    "\n",
    "uploader20 = widgets.FileUpload(\n",
    "    accept='',  # Accepted file extension e.g. '.txt', '.pdf', 'image/*', 'image/*,.pdf'\n",
    "    multiple=False  # True to accept multiple files upload else False\n",
    ")\n",
    "\n",
    "def on_button_clicked20(b):\n",
    "    fileName = uploader20.value[0].name\n",
    "    print(uploader20.value[0].name)\n",
    "#     widgets.Image(value=uploader20.value[0].content.tobytes())\n",
    "#     shutil.copyfile(fc.selected_path+\"\\\\\"+fc.selected_filename, 'Data Folder\\\\'+fc.selected_filename)\n",
    "#         with output:\n",
    "#             print(fn + \" saved to Data Folder.\")\n",
    "# =================================================\n",
    "confirmBtn20 = widgets.Button(\n",
    "    description='Confirm Upload',\n",
    "    button_style='info', # 'success', 'info', 'warning', 'danger' or ''\n",
    "    tooltip='Confirm',\n",
    ")\n",
    "display(uploader20)\n",
    "confirmBtn20.on_click(on_button_clicked20)\n",
    "display(confirmBtn20)"
   ]
  },
  {
   "cell_type": "markdown",
   "metadata": {
    "heading_collapsed": true
   },
   "source": [
    "# Inference"
   ]
  },
  {
   "cell_type": "code",
   "execution_count": null,
   "metadata": {
    "hidden": true
   },
   "outputs": [],
   "source": [
    "import cv2\n",
    "import pandas as pd\n",
    "from moviepy.editor import VideoFileClip\n",
    "\n",
    "def output(frame):\n",
    "    try:\n",
    "        cv2.putText(frame, str(next(df)[1].sentence), position, cv2.FONT_HERSHEY_SIMPLEX, 1, (255, 255, 255), 3, cv2.LINE_AA)\n",
    "    except StopIteration:\n",
    "        pass\n",
    "    # additional frame manipulation\n",
    "    return frame\n",
    "\n",
    "\n",
    "# Path to video\n",
    "video_path = \"video.mp4\"\n",
    "\n",
    "# Capture video\n",
    "cap = cv2.VideoCapture(video_path)\n",
    "\n",
    "# Get video height and width from captured video\n",
    "frame_width = int(cap.get(3))\n",
    "frame_height = int(cap.get(4))\n",
    "\n",
    "# Set position for text with offset of text size\n",
    "position = ((int((frame_width/2)-(268/2))), int(((frame_height/2)-(36/2))))\n",
    "\n",
    "video = VideoFileClip(video_path)\n",
    "\n",
    "# Path to caption\n",
    "caption = \"caption.csv\"\n",
    "\n",
    "df = pd.read_csv(caption).iterrows()\n",
    "\n",
    "# Modifies the images of a clip by replacing the frame\n",
    "out_video = video.fl_image(output)\n",
    "\n",
    "# Write edited video to file\n",
    "out_video.write_videofile(\"output.mp4\", audio = True)\n",
    "\n",
    "# Close video file clip\n",
    "out_video.close()"
   ]
  },
  {
   "cell_type": "markdown",
   "metadata": {
    "heading_collapsed": true
   },
   "source": [
    "# Training"
   ]
  },
  {
   "cell_type": "code",
   "execution_count": null,
   "metadata": {
    "hidden": true,
    "scrolled": true
   },
   "outputs": [],
   "source": [
    "# python ./Training/train.py \n",
    "# -dataset TSU \n",
    "# -mode rgb \n",
    "# -split_setting CS \n",
    "# -model PDAN \n",
    "# -train True \n",
    "# -num_channel 512 \n",
    "# -lr 0.0002 \n",
    "# -kernelsize 2 \n",
    "# -APtype map \n",
    "# -epoch $epochDD.value \n",
    "# -batch_size 1 \n",
    "# -comp_info TSU_CS_RGB_PDAN \n",
    "# -load_model ./Training/dataset/PDAN_TSU_RGB"
   ]
  },
  {
   "cell_type": "code",
   "execution_count": null,
   "metadata": {
    "hidden": true,
    "scrolled": false
   },
   "outputs": [],
   "source": [
    "import ipywidgets as widgets\n",
    "from IPython.display import display, IFrame, Video\n",
    "\n",
    "selectedModelPath = \"\"\n",
    "# ======================================== FileChooser\n",
    "# Create and display a FileChooser widget\n",
    "fcSelectModel = FileChooser('./Data_Folder')\n",
    "\n",
    "# Restrict navigation to /Users\n",
    "fcSelectModel.sandbox_path = './Data_Folder'\n",
    "\n",
    "# Change hidden files\n",
    "fcSelectModel.show_hidden = False\n",
    "\n",
    "# === Set multiple file filter patterns (uses https://docs.python.org/3/library/fnmatch.html) ===\n",
    "fcSelectModel.filter_pattern = ['*']\n",
    "\n",
    "# Switch to folder-only mode\n",
    "fcSelectModel.show_only_dirs = False\n",
    "\n",
    "# Change the title (use '' to hide)\n",
    "fcSelectModel.title = '<b>Select File for Training</b>'\n",
    "\n",
    "# callback function\n",
    "def change_display_selected(chooser):\n",
    "    selectedModelPath = fcSelectModel.selected_path+fcSelectModel.selected_filename\n",
    "    with outputSelectModel:\n",
    "        print(\"File selected >> \" + selectedModelPath, end='\\r')\n",
    "#         print(fcSelectModel.selected_path+\"\\\\\"+fcSelectModel.selected_filename, end='\\r')\n",
    "#     runVid(fc2.selected_path+\"\\\\\"+fc2.selected_filename)\n",
    "#         Video(fc2.selected_path+\"\\\\\"+fc2.selected_filename)\n",
    "    \n",
    "# Register callback function\n",
    "fcSelectModel.register_callback(change_display_selected)\n",
    "\n",
    "# ======================================== Button to run Train.py\n",
    "def btnClicked_runTraining(b):\n",
    "    selectedModelPath = fcSelectModel.selected_path+fcSelectModel.selected_filename\n",
    "    with outputRunTraining:\n",
    "        print(selectedModelPath)\n",
    "        print(\"Running >> \" + selectedModelPath + \" ...\")\n",
    "#     !python ./Training/train.py -dataset TSU -mode rgb -split_setting CS -model PDAN -train True -num_channel 512 -lr 0.0002 -kernelsize 2 -APtype map -epoch $epochDD.value -batch_size 1 -comp_info TSU_CS_RGB_PDAN -load_model ./Training/dataset/PDAN_TSU_RGB\n",
    "# Run Train.py Script\n",
    "    !python ./Training/train.py -dataset TSU -mode rgb -split_setting CS -model PDAN -train True -num_channel 512 -lr 0.0002 -kernelsize 1 -APtype map -epoch $epochDD.value -batch_size 1 -comp_info TSU_CS_RGB_PDAN -load_model $selectedModelPath\n",
    "\n",
    "runTrainingBtn = widgets.Button(\n",
    "    description='Run Training Model',\n",
    "    button_style='info', # 'success', 'info', 'warning', 'danger' or ''\n",
    "    tooltip='Confirm',\n",
    ")\n",
    "\n",
    "# ======================================== Epoch Dropdown\n",
    "epochDD = widgets.Dropdown(\n",
    "    options=['1', '2', '3'],\n",
    "    value='1',\n",
    "    description='Epoch:',\n",
    "    disabled=False,\n",
    ")\n",
    "\n",
    "# ======================================== BatchSize Dropdown \n",
    "batchSizeDD = widgets.Dropdown(\n",
    "    options=['1', '2', '3'],\n",
    "    value='1',\n",
    "    description='Batch Size (Unused):',\n",
    "    disabled=True,\n",
    ")\n",
    "\n",
    "# ======================================== Outputs \n",
    "outputRunTraining = widgets.Output()\n",
    "outputSelectModel = widgets.Output()\n",
    "\n",
    "runTrainingBtn.on_click(btnClicked_runTraining)\n",
    "display(outputSelectModel)\n",
    "display(fcSelectModel)\n",
    "display(epochDD, batchSizeDD)\n",
    "display(runTrainingBtn, outputRunTraining)\n"
   ]
  },
  {
   "cell_type": "markdown",
   "metadata": {},
   "source": [
    "# Testing"
   ]
  },
  {
   "cell_type": "markdown",
   "metadata": {},
   "source": [
    "### Select Model for testing"
   ]
  },
  {
   "cell_type": "code",
   "execution_count": null,
   "metadata": {},
   "outputs": [],
   "source": [
    "from ipyfilechooser import FileChooser\n",
    "from IPython.display import display\n",
    "from IPython.display import IFrame\n",
    "import ipywidgets as widgets\n",
    "from IPython.display import Video\n",
    "\n",
    "output_test = widgets.Output()\n",
    "# ========== FileChooser ==========\n",
    "# Create and display a FileChooser widget\n",
    "fc_test = FileChooser('./Pre_trained_models')\n",
    "display(fc_test)\n",
    "\n",
    "# Restrict navigation to /Users\n",
    "fc_test.sandbox_path = './Pre_trained_models'\n",
    "\n",
    "# Change hidden files\n",
    "fc_test.show_hidden = False\n",
    "\n",
    "# Switch to folder-only mode\n",
    "fc_test.show_only_dirs = False\n",
    "\n",
    "# Change the title (use '' to hide)\n",
    "fc_test.title = '<b>Select File for Testing</b>'\n",
    "\n",
    "# Sample callback function\n",
    "def change_display_selected(chooser):\n",
    "    with output_test:\n",
    "#         print(fc2.selected_filename, end='\\r')\n",
    "        print(fc_test.selected_path+\"\\\\\"+fc_test.selected_filename + '\\n\\n', end='\\r')\n",
    "#     runVid(fc2.selected_path+\"\\\\\"+fc2.selected_filename)\n",
    "#         Video(fc2.selected_path+\"\\\\\"+fc2.selected_filename)\n",
    "    \n",
    "# Register callback function\n",
    "fc_test.register_callback(change_display_selected)\n",
    "# ========== END FileChooser END ==========\n",
    "display(output_test)"
   ]
  },
  {
   "cell_type": "code",
   "execution_count": null,
   "metadata": {
    "scrolled": true
   },
   "outputs": [],
   "source": [
    "import ipywidgets as widgets\n",
    "from IPython.display import display\n",
    "\n",
    "def btnClicked_runTraining(b):\n",
    "#     print(epochDD.value)\n",
    "    with outputRunTraining:\n",
    "        print(\"Testing model \" + fc_test.selected_filename)\n",
    "    fp = fc_test.selected_path+fc_test.selected_filename\n",
    "    if fp:\n",
    "        print(\"Running...\")\n",
    "        #fp = fc2.selected_path+fc2.selected_filename\n",
    "        !python ./Training/train.py -dataset TSU -mode rgb -split_setting CS -model PDAN -train True -num_channel 512 -lr 0.0002 -kernelsize 2 -APtype map -epoch $epochDD.value -batch_size 1 -comp_info TSU_CS_RGB_PDAN -load_model $fp\n",
    "        \n",
    "runTrainingBtn = widgets.Button(\n",
    "    description='Run Testing Model',\n",
    "    button_style='info', # 'success', 'info', 'warning', 'danger' or ''\n",
    "    tooltip='Confirm',\n",
    ")\n",
    "\n",
    "epochDD = widgets.Dropdown(\n",
    "    options=['1', '2', '3'],\n",
    "    value='1',\n",
    "    description='Epoch:',\n",
    "    disabled=False,\n",
    ")\n",
    "\n",
    "batchSizeDD = widgets.Dropdown(\n",
    "    options=['1', '2', '3'],\n",
    "    value='1',\n",
    "    description='Batch Size (Unused):',\n",
    "    disabled=True,\n",
    ")\n",
    "\n",
    "runTrainingBtn.on_click(btnClicked_runTraining)\n",
    "outputRunTraining = widgets.Output()\n",
    "\n",
    "display(epochDD, batchSizeDD)\n",
    "display(runTrainingBtn, outputRunTraining)"
   ]
  },
  {
   "cell_type": "code",
   "execution_count": null,
   "metadata": {},
   "outputs": [],
   "source": []
  }
 ],
 "metadata": {
  "celltoolbar": "Initialization Cell",
  "colab": {
   "authorship_tag": "ABX9TyN+EoD2onQTKrdDorGCO8Sd",
   "provenance": []
  },
  "kernelspec": {
   "display_name": "Python 3 (ipykernel)",
   "language": "python",
   "name": "python3"
  },
  "language_info": {
   "codemirror_mode": {
    "name": "ipython",
    "version": 3
   },
   "file_extension": ".py",
   "mimetype": "text/x-python",
   "name": "python",
   "nbconvert_exporter": "python",
   "pygments_lexer": "ipython3",
   "version": "3.7.5"
  },
  "toc": {
   "base_numbering": 1,
   "nav_menu": {},
   "number_sections": true,
   "sideBar": true,
   "skip_h1_title": false,
   "title_cell": "Table of Contents",
   "title_sidebar": "Contents",
   "toc_cell": false,
   "toc_position": {},
   "toc_section_display": true,
   "toc_window_display": false
  },
  "varInspector": {
   "cols": {
    "lenName": 16,
    "lenType": 16,
    "lenVar": 40
   },
   "kernels_config": {
    "python": {
     "delete_cmd_postfix": "",
     "delete_cmd_prefix": "del ",
     "library": "var_list.py",
     "varRefreshCmd": "print(var_dic_list())"
    },
    "r": {
     "delete_cmd_postfix": ") ",
     "delete_cmd_prefix": "rm(",
     "library": "var_list.r",
     "varRefreshCmd": "cat(var_dic_list()) "
    }
   },
   "types_to_exclude": [
    "module",
    "function",
    "builtin_function_or_method",
    "instance",
    "_Feature"
   ],
   "window_display": false
  },
  "widgets": {
   "application/vnd.jupyter.widget-state+json": {
    "state": {
     "005985f470834b00bcfe2aff3ceaf8cd": {
      "model_module": "@jupyter-widgets/base",
      "model_module_version": "2.0.0",
      "model_name": "LayoutModel",
      "state": {
       "min_width": "6em",
       "width": "6em"
      }
     },
     "0604997df30244abaf9772f00d079a77": {
      "model_module": "@jupyter-widgets/base",
      "model_module_version": "2.0.0",
      "model_name": "LayoutModel",
      "state": {
       "grid_area": "filename",
       "width": "auto"
      }
     },
     "06f2ea4ab12e4f8289e25b73cce877dc": {
      "model_module": "@jupyter-widgets/base",
      "model_module_version": "2.0.0",
      "model_name": "LayoutModel",
      "state": {
       "overflow": "auto"
      }
     },
     "08f47b1c1b654625bbda0a9593abcf0d": {
      "model_module": "@jupyter-widgets/controls",
      "model_module_version": "2.0.0",
      "model_name": "ToggleButtonStyleModel",
      "state": {
       "description_width": "",
       "font_family": null,
       "font_size": null,
       "font_style": null,
       "font_variant": null,
       "font_weight": null,
       "text_color": null,
       "text_decoration": null
      }
     },
     "0c3004aaa5a14ddea0a21a752d5d12e7": {
      "model_module": "@jupyter-widgets/base",
      "model_module_version": "2.0.0",
      "model_name": "LayoutModel",
      "state": {
       "margin": "0 0 0 1em"
      }
     },
     "0f1a6d89c52b49cda5992dc51108f016": {
      "model_module": "@jupyter-widgets/base",
      "model_module_version": "2.0.0",
      "model_name": "LayoutModel",
      "state": {}
     },
     "1884cc627023469591ed9bb318472121": {
      "model_module": "@jupyter-widgets/controls",
      "model_module_version": "2.0.0",
      "model_name": "HBoxModel",
      "state": {
       "children": [
        "IPY_MODEL_5c7c811337af4af49ee239ef75161eb3",
        "IPY_MODEL_39a4ab1ce6384ec69d16a5d9d9dfcbc0",
        "IPY_MODEL_6650fe36697e421ea5fb25e2980e4c65"
       ],
       "layout": "IPY_MODEL_8a0c25308ca24d22b2e0edb5d6c5ded5"
      }
     },
     "1ab2de4a3e684e54a83b3ab5d9e991a7": {
      "model_module": "@jupyter-widgets/controls",
      "model_module_version": "2.0.0",
      "model_name": "ButtonModel",
      "state": {
       "description": "Select",
       "layout": "IPY_MODEL_53ef317bf2f54736be1f360ce5d30673",
       "style": "IPY_MODEL_8f72488a1866457aba1f29e62dd085b6",
       "tooltip": null
      }
     },
     "1b50c71591df48cea8b7c8f396b10f69": {
      "model_module": "@jupyter-widgets/base",
      "model_module_version": "2.0.0",
      "model_name": "LayoutModel",
      "state": {}
     },
     "1c14b28762864baba2c65da6109e2b8d": {
      "model_module": "@jupyter-widgets/controls",
      "model_module_version": "2.0.0",
      "model_name": "HTMLStyleModel",
      "state": {
       "description_width": "",
       "font_size": null,
       "text_color": null
      }
     },
     "1da19252c1df4b4188072d3aa9a0eb5a": {
      "model_module": "@jupyter-widgets/base",
      "model_module_version": "2.0.0",
      "model_name": "LayoutModel",
      "state": {}
     },
     "20c3c2c7c1ec42228105331c0834e1bb": {
      "model_module": "@jupyter-widgets/controls",
      "model_module_version": "2.0.0",
      "model_name": "ToggleButtonModel",
      "state": {
       "description": "Hide code",
       "layout": "IPY_MODEL_b54360ce84fe421a94b26f1363a9a203",
       "style": "IPY_MODEL_08f47b1c1b654625bbda0a9593abcf0d",
       "tooltip": null,
       "value": true
      }
     },
     "2136d839819943bf91a2bd19a0a166b7": {
      "model_module": "@jupyter-widgets/controls",
      "model_module_version": "2.0.0",
      "model_name": "HTMLStyleModel",
      "state": {
       "description_width": "",
       "font_size": null,
       "text_color": null
      }
     },
     "218b39cc438a4785abb1dc0aab1771a7": {
      "model_module": "@jupyter-widgets/controls",
      "model_module_version": "2.0.0",
      "model_name": "TextModel",
      "state": {
       "layout": "IPY_MODEL_9270c3ba2bf8438b84321579d4075677",
       "placeholder": "output filename",
       "style": "IPY_MODEL_a9168897a8be49e69ce088570702b903"
      }
     },
     "27417766e69242efb9ffe9f23706cae7": {
      "model_module": "@jupyter-widgets/controls",
      "model_module_version": "2.0.0",
      "model_name": "HTMLStyleModel",
      "state": {
       "description_width": "",
       "font_size": null,
       "text_color": null
      }
     },
     "2b1469cf119b44cab2fe1ece0cd8d1d5": {
      "model_module": "@jupyter-widgets/controls",
      "model_module_version": "2.0.0",
      "model_name": "HTMLStyleModel",
      "state": {
       "description_width": "",
       "font_size": null,
       "text_color": null
      }
     },
     "2bdaf5d5e7b94c6f86fa79183faf6e7b": {
      "model_module": "@jupyter-widgets/base",
      "model_module_version": "2.0.0",
      "model_name": "LayoutModel",
      "state": {
       "grid_area": "pathlist",
       "width": "auto"
      }
     },
     "2d2fb94c45914e61b2b38c88d0a8d2ad": {
      "model_module": "@jupyter-widgets/base",
      "model_module_version": "2.0.0",
      "model_name": "LayoutModel",
      "state": {
       "margin": "0 0 0 1em"
      }
     },
     "2d9f5d7b7af7472898fd3a346deb2d29": {
      "model_module": "@jupyter-widgets/controls",
      "model_module_version": "2.0.0",
      "model_name": "ToggleButtonModel",
      "state": {
       "description": "Hide code",
       "layout": "IPY_MODEL_7103ec894c314ecaad77641eac57e884",
       "style": "IPY_MODEL_7994c8a999d240b89eeb0ef888860233",
       "tooltip": null,
       "value": true
      }
     },
     "2e3a87c6567a4948bbdd764e6f9b6bc2": {
      "model_module": "@jupyter-widgets/base",
      "model_module_version": "2.0.0",
      "model_name": "LayoutModel",
      "state": {
       "grid_area": "dircontent",
       "width": "auto"
      }
     },
     "3049d7ffa12542a3960d2b37cdc60cf8": {
      "model_module": "@jupyter-widgets/controls",
      "model_module_version": "2.0.0",
      "model_name": "SelectModel",
      "state": {
       "_options_labels": [
        "📁 All Users",
        "📁 Default",
        "📁 Default User",
        "📁 Public",
        "📁 jaspz"
       ],
       "index": null,
       "layout": "IPY_MODEL_4c3cf643bb2f4448ace1c0f03c204ba2",
       "rows": 8,
       "style": "IPY_MODEL_de286a5206664738bc16df74f9071254"
      }
     },
     "33ce3ee542524f1f917b0f129583df2b": {
      "model_module": "@jupyter-widgets/controls",
      "model_module_version": "2.0.0",
      "model_name": "TextStyleModel",
      "state": {
       "description_width": "",
       "font_size": null,
       "text_color": null
      }
     },
     "34961aa74af34fef8e7669a46f01c45e": {
      "model_module": "@jupyter-widgets/controls",
      "model_module_version": "2.0.0",
      "model_name": "GridBoxModel",
      "state": {
       "children": [
        "IPY_MODEL_b9fe1c49d5c34dbfb53d79846308582d",
        "IPY_MODEL_5284352bdaec421784cd95019a89c2f6",
        "IPY_MODEL_d6528baf7fd045dc91051f343bc3c362"
       ],
       "layout": "IPY_MODEL_4c614e1116804f7887d4642b655ef3be"
      }
     },
     "35f6c2acea9442fcaf4a18f788f48ccd": {
      "model_module": "@jupyter-widgets/controls",
      "model_module_version": "2.0.0",
      "model_name": "HTMLStyleModel",
      "state": {
       "description_width": "",
       "font_size": null,
       "text_color": null
      }
     },
     "39a4ab1ce6384ec69d16a5d9d9dfcbc0": {
      "model_module": "@jupyter-widgets/controls",
      "model_module_version": "2.0.0",
      "model_name": "ButtonModel",
      "state": {
       "description": "Cancel",
       "layout": "IPY_MODEL_a9c4cc7a1fd24d538ec358f687500579",
       "style": "IPY_MODEL_48c338a4adbf41c4bb469ab00fa4c0d0",
       "tooltip": null
      }
     },
     "3ddc12222d1e4921b7b3c0865e344c9d": {
      "model_module": "@jupyter-widgets/base",
      "model_module_version": "2.0.0",
      "model_name": "LayoutModel",
      "state": {
       "grid_area": "dircontent",
       "width": "auto"
      }
     },
     "3e0fca908e4448ec98ece0f1036195d2": {
      "model_module": "@jupyter-widgets/base",
      "model_module_version": "2.0.0",
      "model_name": "LayoutModel",
      "state": {
       "overflow": "auto"
      }
     },
     "3e9fe586878948a796ef4f2cd9edd192": {
      "model_module": "@jupyter-widgets/controls",
      "model_module_version": "2.0.0",
      "model_name": "HTMLStyleModel",
      "state": {
       "description_width": "",
       "font_size": null,
       "text_color": null
      }
     },
     "41a899ade5b8467ab123feb166e8c6db": {
      "model_module": "@jupyter-widgets/controls",
      "model_module_version": "2.0.0",
      "model_name": "ButtonModel",
      "state": {
       "description": "Select",
       "layout": "IPY_MODEL_005985f470834b00bcfe2aff3ceaf8cd",
       "style": "IPY_MODEL_6f0973631fc94c9698429da8e42fb3f7",
       "tooltip": null
      }
     },
     "42dccb7deef14766baa08f56a84d6f1e": {
      "model_module": "@jupyter-widgets/base",
      "model_module_version": "2.0.0",
      "model_name": "LayoutModel",
      "state": {}
     },
     "48c338a4adbf41c4bb469ab00fa4c0d0": {
      "model_module": "@jupyter-widgets/controls",
      "model_module_version": "2.0.0",
      "model_name": "ButtonStyleModel",
      "state": {
       "font_family": null,
       "font_size": null,
       "font_style": null,
       "font_variant": null,
       "font_weight": null,
       "text_color": null,
       "text_decoration": null
      }
     },
     "495847909b294ad89c05733c251b2182": {
      "model_module": "@jupyter-widgets/controls",
      "model_module_version": "2.0.0",
      "model_name": "GridBoxModel",
      "state": {
       "children": [
        "IPY_MODEL_82d22105ebad4e44a7bd1846454b1501",
        "IPY_MODEL_218b39cc438a4785abb1dc0aab1771a7",
        "IPY_MODEL_3049d7ffa12542a3960d2b37cdc60cf8"
       ],
       "layout": "IPY_MODEL_c2290e829b0443b191d0058957407f40"
      }
     },
     "4b7a0c1435be4b2480f8343f70cee594": {
      "model_module": "@jupyter-widgets/controls",
      "model_module_version": "2.0.0",
      "model_name": "ButtonModel",
      "state": {
       "button_style": "info",
       "description": "Confirm Upload",
       "layout": "IPY_MODEL_0f1a6d89c52b49cda5992dc51108f016",
       "style": "IPY_MODEL_c4dc7efd37244e3283ba0d4d083ab36d",
       "tooltip": "Confirm"
      }
     },
     "4c3cf643bb2f4448ace1c0f03c204ba2": {
      "model_module": "@jupyter-widgets/base",
      "model_module_version": "2.0.0",
      "model_name": "LayoutModel",
      "state": {
       "grid_area": "dircontent",
       "width": "auto"
      }
     },
     "4c53031fbf2b45b4b4bcd029fd920430": {
      "model_module": "@jupyter-widgets/controls",
      "model_module_version": "2.0.0",
      "model_name": "SelectModel",
      "state": {
       "_options_labels": [
        "📁 All Users",
        "📁 Default",
        "📁 Default User",
        "📁 Public",
        "📁 jaspz"
       ],
       "index": null,
       "layout": "IPY_MODEL_3ddc12222d1e4921b7b3c0865e344c9d",
       "rows": 8,
       "style": "IPY_MODEL_7a0a1776741a4a4dbaf7a81274b92d5e"
      }
     },
     "4c614e1116804f7887d4642b655ef3be": {
      "model_module": "@jupyter-widgets/base",
      "model_module_version": "2.0.0",
      "model_name": "LayoutModel",
      "state": {
       "display": "none",
       "grid_gap": "0px 0px",
       "grid_template_areas": "\n            'pathlist filename'\n            'dircontent dircontent'\n            ",
       "grid_template_columns": "60% 40%",
       "grid_template_rows": "auto auto",
       "width": "auto"
      }
     },
     "4ef52ed3cb6242078a8d8f53c4b837a3": {
      "model_module": "@jupyter-widgets/base",
      "model_module_version": "2.0.0",
      "model_name": "LayoutModel",
      "state": {}
     },
     "51a08ef82d5545329876826e7f83860b": {
      "model_module": "@jupyter-widgets/controls",
      "model_module_version": "2.0.0",
      "model_name": "DescriptionStyleModel",
      "state": {
       "description_width": ""
      }
     },
     "5284352bdaec421784cd95019a89c2f6": {
      "model_module": "@jupyter-widgets/controls",
      "model_module_version": "2.0.0",
      "model_name": "TextModel",
      "state": {
       "layout": "IPY_MODEL_a2b02d73ca734ccbaa648fc2325c30d6",
       "placeholder": "output filename",
       "style": "IPY_MODEL_33ce3ee542524f1f917b0f129583df2b"
      }
     },
     "529bc02cb38b4ad0a9fe90ab85667be9": {
      "model_module": "@jupyter-widgets/base",
      "model_module_version": "2.0.0",
      "model_name": "LayoutModel",
      "state": {
       "margin": "0 0 0 1em"
      }
     },
     "53ef317bf2f54736be1f360ce5d30673": {
      "model_module": "@jupyter-widgets/base",
      "model_module_version": "2.0.0",
      "model_name": "LayoutModel",
      "state": {
       "min_width": "6em",
       "width": "6em"
      }
     },
     "54a0eba487f8485baa97fba587a47cb4": {
      "model_module": "@jupyter-widgets/controls",
      "model_module_version": "2.0.0",
      "model_name": "TextStyleModel",
      "state": {
       "description_width": "",
       "font_size": null,
       "text_color": null
      }
     },
     "56c0f7989f814d33bf492406735f80f1": {
      "model_module": "@jupyter-widgets/controls",
      "model_module_version": "2.0.0",
      "model_name": "HBoxModel",
      "state": {
       "children": [
        "IPY_MODEL_1ab2de4a3e684e54a83b3ab5d9e991a7",
        "IPY_MODEL_5e6afc4590094ffba4d8db2b7f2fe856",
        "IPY_MODEL_905568ce6b054d0f86ee1a0835fd6689"
       ],
       "layout": "IPY_MODEL_97aa87934d8640d886ba79a4dfe5f831"
      }
     },
     "58cac1d16e8f4f04b1fa01e768c21cbd": {
      "model_module": "@jupyter-widgets/controls",
      "model_module_version": "2.0.0",
      "model_name": "TextModel",
      "state": {
       "layout": "IPY_MODEL_0604997df30244abaf9772f00d079a77",
       "placeholder": "output filename",
       "style": "IPY_MODEL_54a0eba487f8485baa97fba587a47cb4"
      }
     },
     "5c7c811337af4af49ee239ef75161eb3": {
      "model_module": "@jupyter-widgets/controls",
      "model_module_version": "2.0.0",
      "model_name": "ButtonModel",
      "state": {
       "description": "Select",
       "layout": "IPY_MODEL_aa199184ec8546b2a77ca36bdd0388a1",
       "style": "IPY_MODEL_f1e902e1652b430e82dab1628e589df9",
       "tooltip": null
      }
     },
     "5e6afc4590094ffba4d8db2b7f2fe856": {
      "model_module": "@jupyter-widgets/controls",
      "model_module_version": "2.0.0",
      "model_name": "ButtonModel",
      "state": {
       "description": "Cancel",
       "layout": "IPY_MODEL_e1c3b076b3de46ba96da683d211dbbfb",
       "style": "IPY_MODEL_95ed7d09368a476da900536209c976ef",
       "tooltip": null
      }
     },
     "5f1d8a4e0aac4df992675ba9c0522c64": {
      "model_module": "@jupyter-widgets/base",
      "model_module_version": "2.0.0",
      "model_name": "LayoutModel",
      "state": {
       "overflow": "auto"
      }
     },
     "62ff768058ab4874a77aa78d17fc455f": {
      "model_module": "@jupyter-widgets/controls",
      "model_module_version": "2.0.0",
      "model_name": "VBoxModel",
      "state": {
       "children": [
        "IPY_MODEL_64fca42d57644449a387408a1290af23",
        "IPY_MODEL_6dbd2b0934064ba4b82165a39dfa2ee9",
        "IPY_MODEL_6eea53d8b4014723b01b5f79b0e1d6a1"
       ],
       "layout": "IPY_MODEL_73667be455f243a0acb9d96bddb63dbd"
      }
     },
     "64fca42d57644449a387408a1290af23": {
      "model_module": "@jupyter-widgets/controls",
      "model_module_version": "2.0.0",
      "model_name": "HTMLModel",
      "state": {
       "layout": "IPY_MODEL_6778285f48fa4445b5b4ffe680e6b64a",
       "style": "IPY_MODEL_2b1469cf119b44cab2fe1ece0cd8d1d5",
       "value": "<b>Select File (*zip)</b>"
      }
     },
     "6650fe36697e421ea5fb25e2980e4c65": {
      "model_module": "@jupyter-widgets/controls",
      "model_module_version": "2.0.0",
      "model_name": "BoxModel",
      "state": {
       "children": [
        "IPY_MODEL_b4a81b8d2ba24bc788f6bd9e371dde12"
       ],
       "layout": "IPY_MODEL_06f2ea4ab12e4f8289e25b73cce877dc"
      }
     },
     "6778285f48fa4445b5b4ffe680e6b64a": {
      "model_module": "@jupyter-widgets/base",
      "model_module_version": "2.0.0",
      "model_name": "LayoutModel",
      "state": {}
     },
     "6cad5491d3c94edfa9f9ae552ae2a1a8": {
      "model_module": "@jupyter-widgets/base",
      "model_module_version": "2.0.0",
      "model_name": "LayoutModel",
      "state": {}
     },
     "6dbd2b0934064ba4b82165a39dfa2ee9": {
      "model_module": "@jupyter-widgets/controls",
      "model_module_version": "2.0.0",
      "model_name": "GridBoxModel",
      "state": {
       "children": [
        "IPY_MODEL_f6e422ccb35f41d58ce3e471a24fc6b6",
        "IPY_MODEL_58cac1d16e8f4f04b1fa01e768c21cbd",
        "IPY_MODEL_4c53031fbf2b45b4b4bcd029fd920430"
       ],
       "layout": "IPY_MODEL_cb0c2a69b3fd46f8b15b661b836fd7af"
      }
     },
     "6e399c613bc649db9e812a9eb6fa06ab": {
      "model_module": "@jupyter-widgets/controls",
      "model_module_version": "2.0.0",
      "model_name": "ButtonStyleModel",
      "state": {
       "font_family": null,
       "font_size": null,
       "font_style": null,
       "font_variant": null,
       "font_weight": null,
       "text_color": null,
       "text_decoration": null
      }
     },
     "6eea53d8b4014723b01b5f79b0e1d6a1": {
      "model_module": "@jupyter-widgets/controls",
      "model_module_version": "2.0.0",
      "model_name": "HBoxModel",
      "state": {
       "children": [
        "IPY_MODEL_41a899ade5b8467ab123feb166e8c6db",
        "IPY_MODEL_ca3d44ee150448a0b755c641a942cd9a",
        "IPY_MODEL_7c36a902ed214da7a6a9e9f616774322"
       ],
       "layout": "IPY_MODEL_eed9569e36934dcc9a781140629c689c"
      }
     },
     "6f0973631fc94c9698429da8e42fb3f7": {
      "model_module": "@jupyter-widgets/controls",
      "model_module_version": "2.0.0",
      "model_name": "ButtonStyleModel",
      "state": {
       "font_family": null,
       "font_size": null,
       "font_style": null,
       "font_variant": null,
       "font_weight": null,
       "text_color": null,
       "text_decoration": null
      }
     },
     "7103ec894c314ecaad77641eac57e884": {
      "model_module": "@jupyter-widgets/base",
      "model_module_version": "2.0.0",
      "model_name": "LayoutModel",
      "state": {}
     },
     "725c5da09a8548558263f8922d071413": {
      "model_module": "@jupyter-widgets/base",
      "model_module_version": "2.0.0",
      "model_name": "LayoutModel",
      "state": {}
     },
     "73667be455f243a0acb9d96bddb63dbd": {
      "model_module": "@jupyter-widgets/base",
      "model_module_version": "2.0.0",
      "model_name": "LayoutModel",
      "state": {
       "width": "500px"
      }
     },
     "7994c8a999d240b89eeb0ef888860233": {
      "model_module": "@jupyter-widgets/controls",
      "model_module_version": "2.0.0",
      "model_name": "ToggleButtonStyleModel",
      "state": {
       "description_width": "",
       "font_family": null,
       "font_size": null,
       "font_style": null,
       "font_variant": null,
       "font_weight": null,
       "text_color": null,
       "text_decoration": null
      }
     },
     "79ce0a84f52d412fa276ef333985be99": {
      "model_module": "@jupyter-widgets/output",
      "model_module_version": "1.0.0",
      "model_name": "OutputModel",
      "state": {
       "layout": "IPY_MODEL_a753dd518e4e4707bb7692d3352a5967"
      }
     },
     "7a0a1776741a4a4dbaf7a81274b92d5e": {
      "model_module": "@jupyter-widgets/controls",
      "model_module_version": "2.0.0",
      "model_name": "DescriptionStyleModel",
      "state": {
       "description_width": ""
      }
     },
     "7c36a902ed214da7a6a9e9f616774322": {
      "model_module": "@jupyter-widgets/controls",
      "model_module_version": "2.0.0",
      "model_name": "BoxModel",
      "state": {
       "children": [
        "IPY_MODEL_8ae7f655b3534ad0a044c0ece36cd326"
       ],
       "layout": "IPY_MODEL_3e0fca908e4448ec98ece0f1036195d2"
      }
     },
     "7e5ff19d08534d1da0184fee788b7fbe": {
      "model_module": "@jupyter-widgets/base",
      "model_module_version": "2.0.0",
      "model_name": "LayoutModel",
      "state": {
       "display": "none",
       "min_width": "6em",
       "width": "6em"
      }
     },
     "80e94c6039c1458a8a6eb5a756b206db": {
      "model_module": "@jupyter-widgets/controls",
      "model_module_version": "2.0.0",
      "model_name": "ButtonStyleModel",
      "state": {
       "font_family": null,
       "font_size": null,
       "font_style": null,
       "font_variant": null,
       "font_weight": null,
       "text_color": null,
       "text_decoration": null
      }
     },
     "81aa275d75684c27b09151d0048b9abe": {
      "model_module": "@jupyter-widgets/controls",
      "model_module_version": "2.0.0",
      "model_name": "ButtonModel",
      "state": {
       "button_style": "info",
       "description": "Confirm Upload",
       "layout": "IPY_MODEL_be72a2bf6fe94a6597157a3f74130f92",
       "style": "IPY_MODEL_6e399c613bc649db9e812a9eb6fa06ab",
       "tooltip": "Confirm"
      }
     },
     "82d22105ebad4e44a7bd1846454b1501": {
      "model_module": "@jupyter-widgets/controls",
      "model_module_version": "2.0.0",
      "model_name": "DropdownModel",
      "state": {
       "_options_labels": [
        "\\"
       ],
       "index": 0,
       "layout": "IPY_MODEL_e4f77975c15f40cfb5a0750d740bea0f",
       "style": "IPY_MODEL_8c13f7baa46b4559a35f1d468f36be64"
      }
     },
     "89145a53b3014a929f6e0c01bc70751b": {
      "model_module": "@jupyter-widgets/base",
      "model_module_version": "2.0.0",
      "model_name": "LayoutModel",
      "state": {
       "grid_area": "pathlist",
       "width": "auto"
      }
     },
     "8a0c25308ca24d22b2e0edb5d6c5ded5": {
      "model_module": "@jupyter-widgets/base",
      "model_module_version": "2.0.0",
      "model_name": "LayoutModel",
      "state": {
       "width": "auto"
      }
     },
     "8ae7f655b3534ad0a044c0ece36cd326": {
      "model_module": "@jupyter-widgets/controls",
      "model_module_version": "2.0.0",
      "model_name": "HTMLModel",
      "state": {
       "layout": "IPY_MODEL_0c3004aaa5a14ddea0a21a752d5d12e7",
       "placeholder": "",
       "style": "IPY_MODEL_2136d839819943bf91a2bd19a0a166b7",
       "value": "<span style=\"color:black;\">No selection</span>"
      }
     },
     "8c13f7baa46b4559a35f1d468f36be64": {
      "model_module": "@jupyter-widgets/controls",
      "model_module_version": "2.0.0",
      "model_name": "DescriptionStyleModel",
      "state": {
       "description_width": ""
      }
     },
     "8f72488a1866457aba1f29e62dd085b6": {
      "model_module": "@jupyter-widgets/controls",
      "model_module_version": "2.0.0",
      "model_name": "ButtonStyleModel",
      "state": {
       "font_family": null,
       "font_size": null,
       "font_style": null,
       "font_variant": null,
       "font_weight": null,
       "text_color": null,
       "text_decoration": null
      }
     },
     "905568ce6b054d0f86ee1a0835fd6689": {
      "model_module": "@jupyter-widgets/controls",
      "model_module_version": "2.0.0",
      "model_name": "BoxModel",
      "state": {
       "children": [
        "IPY_MODEL_ee18467a6d3948cba8b6c2b4bc93aa74"
       ],
       "layout": "IPY_MODEL_5f1d8a4e0aac4df992675ba9c0522c64"
      }
     },
     "9267423b25e743e8a87b616259c2042a": {
      "model_module": "@jupyter-widgets/controls",
      "model_module_version": "2.0.0",
      "model_name": "VBoxModel",
      "state": {
       "children": [
        "IPY_MODEL_ac2902662bb1425ea7b36ccafd0880d3",
        "IPY_MODEL_34961aa74af34fef8e7669a46f01c45e",
        "IPY_MODEL_56c0f7989f814d33bf492406735f80f1"
       ],
       "layout": "IPY_MODEL_73667be455f243a0acb9d96bddb63dbd"
      }
     },
     "9270c3ba2bf8438b84321579d4075677": {
      "model_module": "@jupyter-widgets/base",
      "model_module_version": "2.0.0",
      "model_name": "LayoutModel",
      "state": {
       "grid_area": "filename",
       "width": "auto"
      }
     },
     "9476e502f4174729b866fe89ce439086": {
      "model_module": "@jupyter-widgets/output",
      "model_module_version": "1.0.0",
      "model_name": "OutputModel",
      "state": {
       "layout": "IPY_MODEL_4ef52ed3cb6242078a8d8f53c4b837a3"
      }
     },
     "95ed7d09368a476da900536209c976ef": {
      "model_module": "@jupyter-widgets/controls",
      "model_module_version": "2.0.0",
      "model_name": "ButtonStyleModel",
      "state": {
       "font_family": null,
       "font_size": null,
       "font_style": null,
       "font_variant": null,
       "font_weight": null,
       "text_color": null,
       "text_decoration": null
      }
     },
     "96589003634a45b09405c6d5f3ae4727": {
      "model_module": "@jupyter-widgets/output",
      "model_module_version": "1.0.0",
      "model_name": "OutputModel",
      "state": {
       "layout": "IPY_MODEL_725c5da09a8548558263f8922d071413"
      }
     },
     "97aa87934d8640d886ba79a4dfe5f831": {
      "model_module": "@jupyter-widgets/base",
      "model_module_version": "2.0.0",
      "model_name": "LayoutModel",
      "state": {
       "width": "auto"
      }
     },
     "9975066008134b06b9619467f23055d6": {
      "model_module": "@jupyter-widgets/controls",
      "model_module_version": "2.0.0",
      "model_name": "DescriptionStyleModel",
      "state": {
       "description_width": ""
      }
     },
     "a2b02d73ca734ccbaa648fc2325c30d6": {
      "model_module": "@jupyter-widgets/base",
      "model_module_version": "2.0.0",
      "model_name": "LayoutModel",
      "state": {
       "grid_area": "filename",
       "width": "auto"
      }
     },
     "a753dd518e4e4707bb7692d3352a5967": {
      "model_module": "@jupyter-widgets/base",
      "model_module_version": "2.0.0",
      "model_name": "LayoutModel",
      "state": {}
     },
     "a9168897a8be49e69ce088570702b903": {
      "model_module": "@jupyter-widgets/controls",
      "model_module_version": "2.0.0",
      "model_name": "TextStyleModel",
      "state": {
       "description_width": "",
       "font_size": null,
       "text_color": null
      }
     },
     "a9c4cc7a1fd24d538ec358f687500579": {
      "model_module": "@jupyter-widgets/base",
      "model_module_version": "2.0.0",
      "model_name": "LayoutModel",
      "state": {
       "display": "none",
       "min_width": "6em",
       "width": "6em"
      }
     },
     "aa199184ec8546b2a77ca36bdd0388a1": {
      "model_module": "@jupyter-widgets/base",
      "model_module_version": "2.0.0",
      "model_name": "LayoutModel",
      "state": {
       "min_width": "6em",
       "width": "6em"
      }
     },
     "ac2902662bb1425ea7b36ccafd0880d3": {
      "model_module": "@jupyter-widgets/controls",
      "model_module_version": "2.0.0",
      "model_name": "HTMLModel",
      "state": {
       "layout": "IPY_MODEL_1b50c71591df48cea8b7c8f396b10f69",
       "style": "IPY_MODEL_35f6c2acea9442fcaf4a18f788f48ccd",
       "value": "<b>Select File (*zip)</b>"
      }
     },
     "b4a81b8d2ba24bc788f6bd9e371dde12": {
      "model_module": "@jupyter-widgets/controls",
      "model_module_version": "2.0.0",
      "model_name": "HTMLModel",
      "state": {
       "layout": "IPY_MODEL_529bc02cb38b4ad0a9fe90ab85667be9",
       "placeholder": "",
       "style": "IPY_MODEL_1c14b28762864baba2c65da6109e2b8d",
       "value": "<span style=\"color:black;\">No selection</span>"
      }
     },
     "b54360ce84fe421a94b26f1363a9a203": {
      "model_module": "@jupyter-widgets/base",
      "model_module_version": "2.0.0",
      "model_name": "LayoutModel",
      "state": {}
     },
     "b9fe1c49d5c34dbfb53d79846308582d": {
      "model_module": "@jupyter-widgets/controls",
      "model_module_version": "2.0.0",
      "model_name": "DropdownModel",
      "state": {
       "_options_labels": [
        "\\"
       ],
       "index": 0,
       "layout": "IPY_MODEL_2bdaf5d5e7b94c6f86fa79183faf6e7b",
       "style": "IPY_MODEL_51a08ef82d5545329876826e7f83860b"
      }
     },
     "bbbbe462a0e34cf5a8aab9e67cc001cb": {
      "model_module": "@jupyter-widgets/controls",
      "model_module_version": "2.0.0",
      "model_name": "ToggleButtonStyleModel",
      "state": {
       "description_width": "",
       "font_family": null,
       "font_size": null,
       "font_style": null,
       "font_variant": null,
       "font_weight": null,
       "text_color": null,
       "text_decoration": null
      }
     },
     "be72a2bf6fe94a6597157a3f74130f92": {
      "model_module": "@jupyter-widgets/base",
      "model_module_version": "2.0.0",
      "model_name": "LayoutModel",
      "state": {}
     },
     "c2290e829b0443b191d0058957407f40": {
      "model_module": "@jupyter-widgets/base",
      "model_module_version": "2.0.0",
      "model_name": "LayoutModel",
      "state": {
       "display": "none",
       "grid_gap": "0px 0px",
       "grid_template_areas": "\n            'pathlist filename'\n            'dircontent dircontent'\n            ",
       "grid_template_columns": "60% 40%",
       "grid_template_rows": "auto auto",
       "width": "auto"
      }
     },
     "c4dc7efd37244e3283ba0d4d083ab36d": {
      "model_module": "@jupyter-widgets/controls",
      "model_module_version": "2.0.0",
      "model_name": "ButtonStyleModel",
      "state": {
       "font_family": null,
       "font_size": null,
       "font_style": null,
       "font_variant": null,
       "font_weight": null,
       "text_color": null,
       "text_decoration": null
      }
     },
     "ca3d44ee150448a0b755c641a942cd9a": {
      "model_module": "@jupyter-widgets/controls",
      "model_module_version": "2.0.0",
      "model_name": "ButtonModel",
      "state": {
       "description": "Cancel",
       "layout": "IPY_MODEL_7e5ff19d08534d1da0184fee788b7fbe",
       "style": "IPY_MODEL_eb17409b98f34840a4babbe7a5136215",
       "tooltip": null
      }
     },
     "cb0c2a69b3fd46f8b15b661b836fd7af": {
      "model_module": "@jupyter-widgets/base",
      "model_module_version": "2.0.0",
      "model_name": "LayoutModel",
      "state": {
       "display": "none",
       "grid_gap": "0px 0px",
       "grid_template_areas": "\n            'pathlist filename'\n            'dircontent dircontent'\n            ",
       "grid_template_columns": "60% 40%",
       "grid_template_rows": "auto auto",
       "width": "auto"
      }
     },
     "d174eccec86c401b915220e498236be6": {
      "model_module": "@jupyter-widgets/controls",
      "model_module_version": "2.0.0",
      "model_name": "DescriptionStyleModel",
      "state": {
       "description_width": ""
      }
     },
     "d6528baf7fd045dc91051f343bc3c362": {
      "model_module": "@jupyter-widgets/controls",
      "model_module_version": "2.0.0",
      "model_name": "SelectModel",
      "state": {
       "_options_labels": [
        "📁 All Users",
        "📁 Default",
        "📁 Default User",
        "📁 Public",
        "📁 jaspz"
       ],
       "index": null,
       "layout": "IPY_MODEL_2e3a87c6567a4948bbdd764e6f9b6bc2",
       "rows": 8,
       "style": "IPY_MODEL_9975066008134b06b9619467f23055d6"
      }
     },
     "de286a5206664738bc16df74f9071254": {
      "model_module": "@jupyter-widgets/controls",
      "model_module_version": "2.0.0",
      "model_name": "DescriptionStyleModel",
      "state": {
       "description_width": ""
      }
     },
     "e0157376f68b416abef54fefe25fcc42": {
      "model_module": "@jupyter-widgets/controls",
      "model_module_version": "2.0.0",
      "model_name": "ToggleButtonModel",
      "state": {
       "description": "Show code",
       "layout": "IPY_MODEL_6cad5491d3c94edfa9f9ae552ae2a1a8",
       "style": "IPY_MODEL_bbbbe462a0e34cf5a8aab9e67cc001cb",
       "tooltip": null
      }
     },
     "e1c3b076b3de46ba96da683d211dbbfb": {
      "model_module": "@jupyter-widgets/base",
      "model_module_version": "2.0.0",
      "model_name": "LayoutModel",
      "state": {
       "display": "none",
       "min_width": "6em",
       "width": "6em"
      }
     },
     "e4f77975c15f40cfb5a0750d740bea0f": {
      "model_module": "@jupyter-widgets/base",
      "model_module_version": "2.0.0",
      "model_name": "LayoutModel",
      "state": {
       "grid_area": "pathlist",
       "width": "auto"
      }
     },
     "e7b2501ced454f589d2ad418a3b2385a": {
      "model_module": "@jupyter-widgets/controls",
      "model_module_version": "2.0.0",
      "model_name": "ButtonModel",
      "state": {
       "button_style": "info",
       "description": "Confirm Upload",
       "layout": "IPY_MODEL_1da19252c1df4b4188072d3aa9a0eb5a",
       "style": "IPY_MODEL_80e94c6039c1458a8a6eb5a756b206db",
       "tooltip": "Confirm"
      }
     },
     "eb17409b98f34840a4babbe7a5136215": {
      "model_module": "@jupyter-widgets/controls",
      "model_module_version": "2.0.0",
      "model_name": "ButtonStyleModel",
      "state": {
       "font_family": null,
       "font_size": null,
       "font_style": null,
       "font_variant": null,
       "font_weight": null,
       "text_color": null,
       "text_decoration": null
      }
     },
     "eb9ed0f63caf446f94bb73c47f4ae862": {
      "model_module": "@jupyter-widgets/controls",
      "model_module_version": "2.0.0",
      "model_name": "VBoxModel",
      "state": {
       "children": [
        "IPY_MODEL_f0f4a6f039944a119235252e369629ca",
        "IPY_MODEL_495847909b294ad89c05733c251b2182",
        "IPY_MODEL_1884cc627023469591ed9bb318472121"
       ],
       "layout": "IPY_MODEL_73667be455f243a0acb9d96bddb63dbd"
      }
     },
     "ee18467a6d3948cba8b6c2b4bc93aa74": {
      "model_module": "@jupyter-widgets/controls",
      "model_module_version": "2.0.0",
      "model_name": "HTMLModel",
      "state": {
       "layout": "IPY_MODEL_2d2fb94c45914e61b2b38c88d0a8d2ad",
       "placeholder": "",
       "style": "IPY_MODEL_27417766e69242efb9ffe9f23706cae7",
       "value": "<span style=\"color:black;\">No selection</span>"
      }
     },
     "eed9569e36934dcc9a781140629c689c": {
      "model_module": "@jupyter-widgets/base",
      "model_module_version": "2.0.0",
      "model_name": "LayoutModel",
      "state": {
       "width": "auto"
      }
     },
     "f0f4a6f039944a119235252e369629ca": {
      "model_module": "@jupyter-widgets/controls",
      "model_module_version": "2.0.0",
      "model_name": "HTMLModel",
      "state": {
       "layout": "IPY_MODEL_42dccb7deef14766baa08f56a84d6f1e",
       "style": "IPY_MODEL_3e9fe586878948a796ef4f2cd9edd192",
       "value": "<b>Select File (*zip)</b>"
      }
     },
     "f1e902e1652b430e82dab1628e589df9": {
      "model_module": "@jupyter-widgets/controls",
      "model_module_version": "2.0.0",
      "model_name": "ButtonStyleModel",
      "state": {
       "font_family": null,
       "font_size": null,
       "font_style": null,
       "font_variant": null,
       "font_weight": null,
       "text_color": null,
       "text_decoration": null
      }
     },
     "f6e422ccb35f41d58ce3e471a24fc6b6": {
      "model_module": "@jupyter-widgets/controls",
      "model_module_version": "2.0.0",
      "model_name": "DropdownModel",
      "state": {
       "_options_labels": [
        "\\"
       ],
       "index": 0,
       "layout": "IPY_MODEL_89145a53b3014a929f6e0c01bc70751b",
       "style": "IPY_MODEL_d174eccec86c401b915220e498236be6"
      }
     }
    },
    "version_major": 2,
    "version_minor": 0
   }
  }
 },
 "nbformat": 4,
 "nbformat_minor": 1
}
