{
 "cells": [
  {
   "cell_type": "markdown",
   "metadata": {
   },
   "source": [
    "# Data Exploration"
   ]
  },
  {
   "cell_type": "markdown",
   "metadata": {},
   "source": [
    "### T10-4\n",
    "As a USER, I want to have a Data Exploration Section in the notebook so that I can easily locate the upload and playback functions in the notebook."
   ]
  },
  {
   "cell_type": "markdown",
   "metadata": {
   },
   "source": [
    "# Inference" ]
  },
  {
   "cell_type": "markdown",
   "metadata": {
   },
   "source": [
    "### T10-7\n",
    "As a USER, I want to have an Inference Section in the notebook so that I can easily locate the Inference Section in the notebook."
   ]
  },
  {
   "cell_type": "markdown",
   "metadata": {
   },
   "source": [
    "# Training" ]
  },
  {
   "cell_type": "markdown",
   "metadata": {
   },
   "source": [
    "### T10-6\n",
    "As a USER, I want to have a Training Section in the notebook so that I can easily locate the training related functions in the notebook."
   ]
  },
  {
   "cell_type": "code",
   "execution_count": null,
   "metadata": {
    "id": "iAH-1vx4sGlg",
    "scrolled": false
   },
   "outputs": [],
   "source": []
  }
 ],
 "metadata": {
  "colab": {
   "authorship_tag": "ABX9TyN+EoD2onQTKrdDorGCO8Sd",
   "provenance": []
  },
  "kernelspec": {
   "display_name": "Python 3 (ipykernel)",
   "language": "python",
   "name": "python3"
  },
  "language_info": {
   "codemirror_mode": {
    "name": "ipython",
    "version": 3
   },
   "file_extension": ".py",
   "mimetype": "text/x-python",
   "name": "python",
   "nbconvert_exporter": "python",
   "pygments_lexer": "ipython3",
   "version": "3.7.5"
  },
  "varInspector": {
   "cols": {
    "lenName": 16,
    "lenType": 16,
    "lenVar": 40
   },
   "kernels_config": {
    "python": {
     "delete_cmd_postfix": "",
     "delete_cmd_prefix": "del ",
     "library": "var_list.py",
     "varRefreshCmd": "print(var_dic_list())"
    },
    "r": {
     "delete_cmd_postfix": ") ",
     "delete_cmd_prefix": "rm(",
     "library": "var_list.r",
     "varRefreshCmd": "cat(var_dic_list()) "
    }
   },
   "types_to_exclude": [
    "module",
    "function",
    "builtin_function_or_method",
    "instance",
    "_Feature"
   ],
   "window_display": false
  }
 },
 "nbformat": 4,
 "nbformat_minor": 1
}
