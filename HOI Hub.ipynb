{
 "cells": [
  {
   "cell_type": "markdown",
   "metadata": {},
   "source": [
    "# Installations & Util"
   ]
  },
  {
   "cell_type": "code",
   "execution_count": 1,
   "metadata": {
    "scrolled": true
   },
   "outputs": [
    {
     "name": "stdout",
     "output_type": "stream",
     "text": [
      "Requirement already satisfied: ipyfilechooser in c:\\python310\\lib\\site-packages (0.6.0)\n",
      "Requirement already satisfied: ipywidgets in c:\\users\\carlton\\appdata\\roaming\\python\\python310\\site-packages (7.7.1)\n",
      "Requirement already satisfied: ipython-genutils~=0.2.0 in c:\\python310\\lib\\site-packages (from ipywidgets) (0.2.0)\n",
      "Requirement already satisfied: traitlets>=4.3.1 in c:\\python310\\lib\\site-packages (from ipywidgets) (5.3.0)\n",
      "Requirement already satisfied: jupyterlab-widgets>=1.0.0 in c:\\python310\\lib\\site-packages (from ipywidgets) (1.1.1)\n",
      "Requirement already satisfied: ipykernel>=4.5.1 in c:\\users\\carlton\\appdata\\roaming\\python\\python310\\site-packages (from ipywidgets) (6.13.0)\n",
      "Requirement already satisfied: widgetsnbextension~=3.6.0 in c:\\users\\carlton\\appdata\\roaming\\python\\python310\\site-packages (from ipywidgets) (3.6.1)\n",
      "Requirement already satisfied: ipython>=4.0.0 in c:\\users\\carlton\\appdata\\roaming\\python\\python310\\site-packages (from ipywidgets) (8.4.0)\n",
      "Requirement already satisfied: jupyter-client>=6.1.12 in c:\\users\\carlton\\appdata\\roaming\\python\\python310\\site-packages (from ipykernel>=4.5.1->ipywidgets) (7.3.1)\n",
      "Requirement already satisfied: tornado>=6.1 in c:\\users\\carlton\\appdata\\roaming\\python\\python310\\site-packages (from ipykernel>=4.5.1->ipywidgets) (6.1)\n",
      "Requirement already satisfied: nest-asyncio in c:\\users\\carlton\\appdata\\roaming\\python\\python310\\site-packages (from ipykernel>=4.5.1->ipywidgets) (1.5.5)\n",
      "Requirement already satisfied: matplotlib-inline>=0.1 in c:\\users\\carlton\\appdata\\roaming\\python\\python310\\site-packages (from ipykernel>=4.5.1->ipywidgets) (0.1.3)\n",
      "Requirement already satisfied: packaging in c:\\users\\carlton\\appdata\\roaming\\python\\python310\\site-packages (from ipykernel>=4.5.1->ipywidgets) (21.3)\n",
      "Requirement already satisfied: psutil in c:\\users\\carlton\\appdata\\roaming\\python\\python310\\site-packages (from ipykernel>=4.5.1->ipywidgets) (5.9.1)\n",
      "Requirement already satisfied: debugpy>=1.0 in c:\\users\\carlton\\appdata\\roaming\\python\\python310\\site-packages (from ipykernel>=4.5.1->ipywidgets) (1.6.0)\n",
      "Requirement already satisfied: colorama in c:\\users\\carlton\\appdata\\roaming\\python\\python310\\site-packages (from ipython>=4.0.0->ipywidgets) (0.4.4)\n",
      "Requirement already satisfied: pickleshare in c:\\users\\carlton\\appdata\\roaming\\python\\python310\\site-packages (from ipython>=4.0.0->ipywidgets) (0.7.5)\n",
      "Requirement already satisfied: prompt-toolkit!=3.0.0,!=3.0.1,<3.1.0,>=2.0.0 in c:\\users\\carlton\\appdata\\roaming\\python\\python310\\site-packages (from ipython>=4.0.0->ipywidgets) (3.0.29)\n",
      "Requirement already satisfied: stack-data in c:\\users\\carlton\\appdata\\roaming\\python\\python310\\site-packages (from ipython>=4.0.0->ipywidgets) (0.2.0)\n",
      "Requirement already satisfied: jedi>=0.16 in c:\\users\\carlton\\appdata\\roaming\\python\\python310\\site-packages (from ipython>=4.0.0->ipywidgets) (0.18.1)\n",
      "Requirement already satisfied: pygments>=2.4.0 in c:\\users\\carlton\\appdata\\roaming\\python\\python310\\site-packages (from ipython>=4.0.0->ipywidgets) (2.12.0)\n",
      "Requirement already satisfied: decorator in c:\\users\\carlton\\appdata\\roaming\\python\\python310\\site-packages (from ipython>=4.0.0->ipywidgets) (5.1.1)\n",
      "Requirement already satisfied: backcall in c:\\users\\carlton\\appdata\\roaming\\python\\python310\\site-packages (from ipython>=4.0.0->ipywidgets) (0.2.0)\n",
      "Requirement already satisfied: setuptools>=18.5 in c:\\users\\carlton\\appdata\\roaming\\python\\python310\\site-packages (from ipython>=4.0.0->ipywidgets) (62.3.2)\n",
      "Requirement already satisfied: notebook>=4.4.1 in c:\\users\\carlton\\appdata\\roaming\\python\\python310\\site-packages (from widgetsnbextension~=3.6.0->ipywidgets) (6.4.12)\n",
      "Requirement already satisfied: parso<0.9.0,>=0.8.0 in c:\\users\\carlton\\appdata\\roaming\\python\\python310\\site-packages (from jedi>=0.16->ipython>=4.0.0->ipywidgets) (0.8.3)\n",
      "Requirement already satisfied: entrypoints in c:\\users\\carlton\\appdata\\roaming\\python\\python310\\site-packages (from jupyter-client>=6.1.12->ipykernel>=4.5.1->ipywidgets) (0.4)\n",
      "Requirement already satisfied: python-dateutil>=2.8.2 in c:\\users\\carlton\\appdata\\roaming\\python\\python310\\site-packages (from jupyter-client>=6.1.12->ipykernel>=4.5.1->ipywidgets) (2.8.2)\n",
      "Requirement already satisfied: pyzmq>=22.3 in c:\\users\\carlton\\appdata\\roaming\\python\\python310\\site-packages (from jupyter-client>=6.1.12->ipykernel>=4.5.1->ipywidgets) (23.0.0)\n",
      "Requirement already satisfied: jupyter-core>=4.9.2 in c:\\users\\carlton\\appdata\\roaming\\python\\python310\\site-packages (from jupyter-client>=6.1.12->ipykernel>=4.5.1->ipywidgets) (4.10.0)\n",
      "Requirement already satisfied: jinja2 in c:\\python310\\lib\\site-packages (from notebook>=4.4.1->widgetsnbextension~=3.6.0->ipywidgets) (3.0.2)\n",
      "Requirement already satisfied: argon2-cffi in c:\\users\\carlton\\appdata\\roaming\\python\\python310\\site-packages (from notebook>=4.4.1->widgetsnbextension~=3.6.0->ipywidgets) (21.3.0)\n",
      "Requirement already satisfied: nbconvert>=5 in c:\\users\\carlton\\appdata\\roaming\\python\\python310\\site-packages (from notebook>=4.4.1->widgetsnbextension~=3.6.0->ipywidgets) (6.5.0)\n",
      "Requirement already satisfied: terminado>=0.8.3 in c:\\users\\carlton\\appdata\\roaming\\python\\python310\\site-packages (from notebook>=4.4.1->widgetsnbextension~=3.6.0->ipywidgets) (0.15.0)\n",
      "Requirement already satisfied: prometheus-client in c:\\python310\\lib\\site-packages (from notebook>=4.4.1->widgetsnbextension~=3.6.0->ipywidgets) (0.14.1)\n",
      "Requirement already satisfied: nbformat in c:\\users\\carlton\\appdata\\roaming\\python\\python310\\site-packages (from notebook>=4.4.1->widgetsnbextension~=3.6.0->ipywidgets) (5.4.0)\n",
      "Requirement already satisfied: Send2Trash>=1.8.0 in c:\\python310\\lib\\site-packages (from notebook>=4.4.1->widgetsnbextension~=3.6.0->ipywidgets) (1.8.0)\n",
      "Requirement already satisfied: wcwidth in c:\\users\\carlton\\appdata\\roaming\\python\\python310\\site-packages (from prompt-toolkit!=3.0.0,!=3.0.1,<3.1.0,>=2.0.0->ipython>=4.0.0->ipywidgets) (0.2.5)\n",
      "Requirement already satisfied: pyparsing!=3.0.5,>=2.0.2 in c:\\users\\carlton\\appdata\\roaming\\python\\python310\\site-packages (from packaging->ipykernel>=4.5.1->ipywidgets) (3.0.9)\n",
      "Requirement already satisfied: pure-eval in c:\\users\\carlton\\appdata\\roaming\\python\\python310\\site-packages (from stack-data->ipython>=4.0.0->ipywidgets) (0.2.2)\n",
      "Requirement already satisfied: asttokens in c:\\users\\carlton\\appdata\\roaming\\python\\python310\\site-packages (from stack-data->ipython>=4.0.0->ipywidgets) (2.0.5)\n",
      "Requirement already satisfied: executing in c:\\users\\carlton\\appdata\\roaming\\python\\python310\\site-packages (from stack-data->ipython>=4.0.0->ipywidgets) (0.8.3)\n",
      "Requirement already satisfied: pywin32>=1.0 in c:\\users\\carlton\\appdata\\roaming\\python\\python310\\site-packages (from jupyter-core>=4.9.2->jupyter-client>=6.1.12->ipykernel>=4.5.1->ipywidgets) (304)\n",
      "Requirement already satisfied: MarkupSafe>=2.0 in c:\\python310\\lib\\site-packages (from nbconvert>=5->notebook>=4.4.1->widgetsnbextension~=3.6.0->ipywidgets) (2.0.1)\n",
      "Requirement already satisfied: mistune<2,>=0.8.1 in c:\\python310\\lib\\site-packages (from nbconvert>=5->notebook>=4.4.1->widgetsnbextension~=3.6.0->ipywidgets) (0.8.4)\n",
      "Requirement already satisfied: jupyterlab-pygments in c:\\users\\carlton\\appdata\\roaming\\python\\python310\\site-packages (from nbconvert>=5->notebook>=4.4.1->widgetsnbextension~=3.6.0->ipywidgets) (0.2.2)\n",
      "Requirement already satisfied: defusedxml in c:\\users\\carlton\\appdata\\roaming\\python\\python310\\site-packages (from nbconvert>=5->notebook>=4.4.1->widgetsnbextension~=3.6.0->ipywidgets) (0.7.1)\n",
      "Requirement already satisfied: tinycss2 in c:\\python310\\lib\\site-packages (from nbconvert>=5->notebook>=4.4.1->widgetsnbextension~=3.6.0->ipywidgets) (1.1.1)\n",
      "Requirement already satisfied: beautifulsoup4 in c:\\users\\carlton\\appdata\\roaming\\python\\python310\\site-packages (from nbconvert>=5->notebook>=4.4.1->widgetsnbextension~=3.6.0->ipywidgets) (4.11.1)\n",
      "Requirement already satisfied: bleach in c:\\users\\carlton\\appdata\\roaming\\python\\python310\\site-packages (from nbconvert>=5->notebook>=4.4.1->widgetsnbextension~=3.6.0->ipywidgets) (5.0.1)\n",
      "Requirement already satisfied: nbclient>=0.5.0 in c:\\users\\carlton\\appdata\\roaming\\python\\python310\\site-packages (from nbconvert>=5->notebook>=4.4.1->widgetsnbextension~=3.6.0->ipywidgets) (0.6.4)\n",
      "Requirement already satisfied: pandocfilters>=1.4.1 in c:\\python310\\lib\\site-packages (from nbconvert>=5->notebook>=4.4.1->widgetsnbextension~=3.6.0->ipywidgets) (1.5.0)\n",
      "Requirement already satisfied: fastjsonschema in c:\\python310\\lib\\site-packages (from nbformat->notebook>=4.4.1->widgetsnbextension~=3.6.0->ipywidgets) (2.15.3)\n",
      "Requirement already satisfied: jsonschema>=2.6 in c:\\python310\\lib\\site-packages (from nbformat->notebook>=4.4.1->widgetsnbextension~=3.6.0->ipywidgets) (4.6.0)\n",
      "Requirement already satisfied: six>=1.5 in c:\\users\\carlton\\appdata\\roaming\\python\\python310\\site-packages (from python-dateutil>=2.8.2->jupyter-client>=6.1.12->ipykernel>=4.5.1->ipywidgets) (1.16.0)\n",
      "Requirement already satisfied: pywinpty>=1.1.0 in c:\\python310\\lib\\site-packages (from terminado>=0.8.3->notebook>=4.4.1->widgetsnbextension~=3.6.0->ipywidgets) (2.0.5)\n",
      "Requirement already satisfied: argon2-cffi-bindings in c:\\users\\carlton\\appdata\\roaming\\python\\python310\\site-packages (from argon2-cffi->notebook>=4.4.1->widgetsnbextension~=3.6.0->ipywidgets) (21.2.0)\n",
      "Requirement already satisfied: pyrsistent!=0.17.0,!=0.17.1,!=0.17.2,>=0.14.0 in c:\\python310\\lib\\site-packages (from jsonschema>=2.6->nbformat->notebook>=4.4.1->widgetsnbextension~=3.6.0->ipywidgets) (0.18.1)\n",
      "Requirement already satisfied: attrs>=17.4.0 in c:\\python310\\lib\\site-packages (from jsonschema>=2.6->nbformat->notebook>=4.4.1->widgetsnbextension~=3.6.0->ipywidgets) (21.4.0)\n",
      "Requirement already satisfied: cffi>=1.0.1 in c:\\users\\carlton\\appdata\\roaming\\python\\python310\\site-packages (from argon2-cffi-bindings->argon2-cffi->notebook>=4.4.1->widgetsnbextension~=3.6.0->ipywidgets) (1.15.0)\n",
      "Requirement already satisfied: soupsieve>1.2 in c:\\python310\\lib\\site-packages (from beautifulsoup4->nbconvert>=5->notebook>=4.4.1->widgetsnbextension~=3.6.0->ipywidgets) (2.3.2.post1)\n",
      "Requirement already satisfied: webencodings in c:\\python310\\lib\\site-packages (from bleach->nbconvert>=5->notebook>=4.4.1->widgetsnbextension~=3.6.0->ipywidgets) (0.5.1)\n",
      "Requirement already satisfied: pycparser in c:\\python310\\lib\\site-packages (from cffi>=1.0.1->argon2-cffi-bindings->argon2-cffi->notebook>=4.4.1->widgetsnbextension~=3.6.0->ipywidgets) (2.21)\n",
      "Note: you may need to restart the kernel to use updated packages.\n"
     ]
    },
    {
     "name": "stderr",
     "output_type": "stream",
     "text": [
      "WARNING: Ignoring invalid distribution -lask (c:\\python310\\lib\\site-packages)\n",
      "WARNING: Ignoring invalid distribution -ip (c:\\python310\\lib\\site-packages)\n",
      "WARNING: Ignoring invalid distribution -lask (c:\\python310\\lib\\site-packages)\n",
      "WARNING: Ignoring invalid distribution -ip (c:\\python310\\lib\\site-packages)\n",
      "WARNING: Ignoring invalid distribution -lask (c:\\python310\\lib\\site-packages)\n",
      "WARNING: Ignoring invalid distribution -ip (c:\\python310\\lib\\site-packages)\n",
      "WARNING: Ignoring invalid distribution -lask (c:\\python310\\lib\\site-packages)\n",
      "WARNING: Ignoring invalid distribution -ip (c:\\python310\\lib\\site-packages)\n"
     ]
    }
   ],
   "source": [
    "%pip install ipyfilechooser ipywidgets\n"
   ]
  },
  {
   "cell_type": "markdown",
   "metadata": {},
   "source": [
    "## Code Hiding"
   ]
  },
  {
   "cell_type": "code",
   "execution_count": 2,
   "metadata": {},
   "outputs": [
    {
     "data": {
      "text/html": [
       "<script>$(\"div.input\").hide()</script>"
      ],
      "text/plain": [
       "<IPython.core.display.HTML object>"
      ]
     },
     "metadata": {},
     "output_type": "display_data"
    },
    {
     "data": {
      "application/vnd.jupyter.widget-view+json": {
       "model_id": "c840ab8060d14c4e98a3b916dd56c50f",
       "version_major": 2,
       "version_minor": 0
      },
      "text/plain": [
       "ToggleButton(value=False, description='Show code')"
      ]
     },
     "metadata": {},
     "output_type": "display_data"
    }
   ],
   "source": [
    "import ipywidgets as widgets\n",
    "from IPython.display import display, HTML\n",
    "# ========== TOGGLE BTN ==========\n",
    "javascript_functions = {False: \"hide()\", True: \"show()\"}\n",
    "button_descriptions  = {False: \"Show code\", True: \"Hide code\"}\n",
    "\n",
    "def toggle_code(state):\n",
    "    \"\"\"\n",
    "    Toggles the JavaScript show()/hide() function on the div.input element.\n",
    "    \"\"\"\n",
    "    output_string = \"<script>$(\\\"div.input\\\").{}</script>\"\n",
    "    output_args   = (javascript_functions[state],)\n",
    "    output        = output_string.format(*output_args)\n",
    "    display(HTML(output))\n",
    "\n",
    "def button_action(value):\n",
    "    \"\"\"\n",
    "    Calls the toggle_code function and updates the button description.\n",
    "    \"\"\"\n",
    "    state = value.new\n",
    "    toggle_code(state)\n",
    "    value.owner.description = button_descriptions[state]\n",
    "    \n",
    "state = False\n",
    "toggle_code(state)\n",
    "\n",
    "button = widgets.ToggleButton(state, description = button_descriptions[state])\n",
    "button.observe(button_action, \"value\")\n",
    "# ========== END TOGGLE BTN END ==========\n",
    "display(button)"
   ]
  },
  {
   "cell_type": "markdown",
   "metadata": {
    "heading_collapsed": true
   },
   "source": [
    "# Data Exploration"
   ]
  },
  {
   "cell_type": "markdown",
   "metadata": {
    "hidden": true
   },
   "source": [
    "### T10-4\n",
    "As a USER, I want to have a Data Exploration Section in the notebook so that I can easily locate the upload and playback functions in the notebook."
   ]
  },
  {
   "cell_type": "markdown",
   "metadata": {
    "heading_collapsed": true
   },
   "source": [
    "# Inference"
   ]
  },
  {
   "cell_type": "markdown",
   "metadata": {
    "hidden": true
   },
   "source": [
    "### T10-7\n",
    "As a USER, I want to have an Inference Section in the notebook so that I can easily locate the Inference Section in the notebook."
   ]
  },
  {
   "cell_type": "markdown",
   "metadata": {
    "collapsed": false
   },
   "source": [
    "Output video processing functions"
   ]
  },
  {
   "cell_type": "code",
   "execution_count": 3,
   "metadata": {
    "collapsed": false
   },
   "outputs": [
    {
     "name": "stdout",
     "output_type": "stream",
     "text": [
      "Error opening video file\n",
      "Released Video Resource\n"
     ]
    }
   ],
   "source": [
    "import cv2\n",
    "\n",
    "def output(video):\n",
    "    cap = cv2.VideoCapture(video)\n",
    "    # Check if camera opened\n",
    "    if not cap.isOpened():\n",
    "        print(\"Error opening video file\")\n",
    "\n",
    "    # Get video height and width\n",
    "    # frame_width = int(cap.get(3))\n",
    "    # frame_height = int(cap.get(4))\n",
    "\n",
    "    # Define output file name and format, codec used, define fps and the frame size\n",
    "    # output_video = cv2.VideoWriter('output.avi',cv2.VideoWriter_fourcc('M','J','P','G'), 30.0,\n",
    "    #                                (frame_width,frame_height))\n",
    "\n",
    "    try:\n",
    "        while cap.isOpened():\n",
    "            # Capture frame by frame\n",
    "            ret, frame = cap.read()\n",
    "\n",
    "            # Check if there are frames captured\n",
    "            if not ret:\n",
    "                # Destroy frame window\n",
    "                cv2.destroyAllWindows()\n",
    "                # Release the Video Device\n",
    "                cap.release()\n",
    "                break\n",
    "\n",
    "            # writing the new frame in output\n",
    "            # frame = cv2.cvtColor(frame, cv2.COLOR_BGR2RGB)\n",
    "            # pyplot.axis('off')\n",
    "            # pyplot.imshow(frame)\n",
    "            # pyplot.title('output')\n",
    "            # pyplot.show()\n",
    "            # clear_output(wait=True)\n",
    "\n",
    "            # Write camera capture into video\n",
    "            # output_video.write(frame)\n",
    "\n",
    "            # Display video in a frame\n",
    "            cv2.imshow('Frame', frame)\n",
    "\n",
    "            # Press Q to quit player\n",
    "            if cv2.waitKey(25) & 0xFF == ord('q'):\n",
    "                break\n",
    "                \n",
    "        # Release the Video Device\n",
    "        cv2.destroyAllWindows()\n",
    "        cap.release()\n",
    "        # Message to be displayed after releasing the device\n",
    "        print(\"Released Video Resource\")\n",
    "\n",
    "    # To catch when stopping cell run in notebook\n",
    "    except KeyboardInterrupt:\n",
    "        cv2.destroyAllWindows()\n",
    "        cap.release()\n",
    "        # Message to be displayed after releasing the device\n",
    "        print(\"Released Video Resource\")\n",
    "\n",
    "if __name__ == \"__main__\":\n",
    "    output(\"\") # video path and file here"
   ]
  },
  {
   "cell_type": "markdown",
   "metadata": {},
   "source": [
    "### T10-6\n",
    "As a USER, I want to have a Training Section in the notebook so that I can easily locate the training related functions in the notebook."
   ]
  },
  {
   "cell_type": "markdown",
   "metadata": {},
   "source": [
    "## File Upload"
   ]
  },
  {
   "cell_type": "code",
   "execution_count": 4,
   "metadata": {
    "scrolled": true
   },
   "outputs": [
    {
     "ename": "InvalidPathError",
     "evalue": "/Users does not exist",
     "output_type": "error",
     "traceback": [
      "\u001b[1;31m---------------------------------------------------------------------------\u001b[0m",
      "\u001b[1;31mInvalidPathError\u001b[0m                          Traceback (most recent call last)",
      "\u001b[1;32md:\\3104 -TSU\\ict3104-team10-2022\\HOI Hub.ipynb Cell 13\u001b[0m in \u001b[0;36m<cell line: 9>\u001b[1;34m()\u001b[0m\n\u001b[0;32m      <a href='vscode-notebook-cell:/d%3A/3104%20-TSU/ict3104-team10-2022/HOI%20Hub.ipynb#X15sZmlsZQ%3D%3D?line=4'>5</a>\u001b[0m \u001b[39mfrom\u001b[39;00m \u001b[39mipywidgets\u001b[39;00m \u001b[39mimport\u001b[39;00m Button\n\u001b[0;32m      <a href='vscode-notebook-cell:/d%3A/3104%20-TSU/ict3104-team10-2022/HOI%20Hub.ipynb#X15sZmlsZQ%3D%3D?line=6'>7</a>\u001b[0m \u001b[39m# ========== FileChooser ==========\u001b[39;00m\n\u001b[0;32m      <a href='vscode-notebook-cell:/d%3A/3104%20-TSU/ict3104-team10-2022/HOI%20Hub.ipynb#X15sZmlsZQ%3D%3D?line=7'>8</a>\u001b[0m \u001b[39m# Create and display a FileChooser widget\u001b[39;00m\n\u001b[1;32m----> <a href='vscode-notebook-cell:/d%3A/3104%20-TSU/ict3104-team10-2022/HOI%20Hub.ipynb#X15sZmlsZQ%3D%3D?line=8'>9</a>\u001b[0m fc \u001b[39m=\u001b[39m FileChooser(\u001b[39m'\u001b[39;49m\u001b[39m/Users\u001b[39;49m\u001b[39m'\u001b[39;49m)\n\u001b[0;32m     <a href='vscode-notebook-cell:/d%3A/3104%20-TSU/ict3104-team10-2022/HOI%20Hub.ipynb#X15sZmlsZQ%3D%3D?line=10'>11</a>\u001b[0m \u001b[39m# Change defaults and reset the dialog\u001b[39;00m\n\u001b[0;32m     <a href='vscode-notebook-cell:/d%3A/3104%20-TSU/ict3104-team10-2022/HOI%20Hub.ipynb#X15sZmlsZQ%3D%3D?line=11'>12</a>\u001b[0m \u001b[39m# fc.default_path = './'\u001b[39;00m\n\u001b[0;32m     <a href='vscode-notebook-cell:/d%3A/3104%20-TSU/ict3104-team10-2022/HOI%20Hub.ipynb#X15sZmlsZQ%3D%3D?line=12'>13</a>\u001b[0m \u001b[39m# fc.reset()\u001b[39;00m\n\u001b[0;32m     <a href='vscode-notebook-cell:/d%3A/3104%20-TSU/ict3104-team10-2022/HOI%20Hub.ipynb#X15sZmlsZQ%3D%3D?line=13'>14</a>\u001b[0m \n\u001b[0;32m     <a href='vscode-notebook-cell:/d%3A/3104%20-TSU/ict3104-team10-2022/HOI%20Hub.ipynb#X15sZmlsZQ%3D%3D?line=14'>15</a>\u001b[0m \u001b[39m# Restrict navigation to /Users\u001b[39;00m\n\u001b[0;32m     <a href='vscode-notebook-cell:/d%3A/3104%20-TSU/ict3104-team10-2022/HOI%20Hub.ipynb#X15sZmlsZQ%3D%3D?line=15'>16</a>\u001b[0m fc\u001b[39m.\u001b[39msandbox_path \u001b[39m=\u001b[39m \u001b[39m'\u001b[39m\u001b[39m/Users\u001b[39m\u001b[39m'\u001b[39m\n",
      "File \u001b[1;32mc:\\Python310\\lib\\site-packages\\ipyfilechooser\\filechooser.py:42\u001b[0m, in \u001b[0;36mFileChooser.__init__\u001b[1;34m(self, path, filename, title, select_desc, change_desc, show_hidden, select_default, dir_icon, dir_icon_append, show_only_dirs, filter_pattern, sandbox_path, layout, **kwargs)\u001b[0m\n\u001b[0;32m     39\u001b[0m \u001b[39mif\u001b[39;00m \u001b[39mnot\u001b[39;00m is_valid_filename(filename):\n\u001b[0;32m     40\u001b[0m     \u001b[39mraise\u001b[39;00m InvalidFileNameError(filename)\n\u001b[1;32m---> 42\u001b[0m \u001b[39mself\u001b[39m\u001b[39m.\u001b[39m_default_path \u001b[39m=\u001b[39m normalize_path(path)\n\u001b[0;32m     43\u001b[0m \u001b[39mself\u001b[39m\u001b[39m.\u001b[39m_default_filename \u001b[39m=\u001b[39m filename\n\u001b[0;32m     44\u001b[0m \u001b[39mself\u001b[39m\u001b[39m.\u001b[39m_selected_path: Optional[\u001b[39mstr\u001b[39m] \u001b[39m=\u001b[39m \u001b[39mNone\u001b[39;00m\n",
      "File \u001b[1;32mc:\\Python310\\lib\\site-packages\\ipyfilechooser\\utils.py:137\u001b[0m, in \u001b[0;36mnormalize_path\u001b[1;34m(path)\u001b[0m\n\u001b[0;32m    134\u001b[0m normalized_path \u001b[39m=\u001b[39m os\u001b[39m.\u001b[39mpath\u001b[39m.\u001b[39mrealpath(path)\n\u001b[0;32m    136\u001b[0m \u001b[39mif\u001b[39;00m \u001b[39mnot\u001b[39;00m os\u001b[39m.\u001b[39mpath\u001b[39m.\u001b[39misdir(normalized_path):\n\u001b[1;32m--> 137\u001b[0m     \u001b[39mraise\u001b[39;00m InvalidPathError(path)\n\u001b[0;32m    139\u001b[0m \u001b[39mreturn\u001b[39;00m normalized_path\n",
      "\u001b[1;31mInvalidPathError\u001b[0m: /Users does not exist"
     ]
    }
   ],
   "source": [
    "import ipywidgets as widgets\n",
    "from IPython.display import display, HTML\n",
    "from ipyfilechooser import FileChooser\n",
    "import zipfile as zf\n",
    "\n",
    "# ========== FileChooser ==========\n",
    "# Create and display a FileChooser widget\n",
    "fc = FileChooser('/Users')\n",
    "\n",
    "# Change defaults and reset the dialog\n",
    "# fc.default_path = './'\n",
    "# fc.reset()\n",
    "\n",
    "# Restrict navigation to /Users\n",
    "fc.sandbox_path = '/Users'\n",
    "\n",
    "# Change hidden files\n",
    "fc.show_hidden = False\n",
    "\n",
    "# Switch to folder-only mode\n",
    "fc.show_only_dirs = False\n",
    "\n",
    "# Set multiple file filter patterns (uses https://docs.python.org/3/library/fnmatch.html)\n",
    "# fc.filter_pattern = ['*.jpg', '*.png','*.txt']\n",
    "fc.filter_pattern = ['*.zip']\n",
    "\n",
    "# Change the title (use '' to hide)\n",
    "fc.title = '<b>Select File (*zip)</b>'\n",
    "\n",
    "# Sample callback function\n",
    "def change_display_selected(chooser):\n",
    "    print(fc.selected_filename, end='\\r')\n",
    "\n",
    "# Register callback function\n",
    "fc.register_callback(change_display_selected)\n",
    "\n",
    "def on_button_clicked(b):\n",
    "    # FILE UPLOAD\n",
    "    print(fc.selected)\n",
    "    fn = fc.selected_filename.replace('.zip', '')\n",
    "    files = zf.ZipFile(fc.selected_path+\"\\\\\"+fc.selected_filename, 'r')\n",
    "    files.extractall('Data Folder\\\\'+fn)\n",
    "    files.close()\n",
    "    with output:\n",
    "        print(\"Files saved.\")\n",
    "# ========== END FileChooser END ==========\n",
    "# ========== CONFIRM BTN ==========\n",
    "confirmBtn = widgets.Button(\n",
    "    description='Confirm Upload',\n",
    "    button_style='info', # 'success', 'info', 'warning', 'danger' or ''\n",
    "    tooltip='Confirm',\n",
    ")\n",
    "output = widgets.Output()\n",
    "confirmBtn.on_click(on_button_clicked)\n",
    "# ========== CONFIRM BTN ==========\n",
    "display(fc)\n",
    "display(confirmBtn, output)"
   ]
  },
  {
   "cell_type": "markdown",
   "metadata": {},
   "source": [
    "## Select File for Training"
   ]
  },
  {
   "cell_type": "code",
   "execution_count": 1,
   "metadata": {
    "scrolled": true
   },
   "outputs": [
    {
     "data": {
      "application/vnd.jupyter.widget-view+json": {
       "model_id": "c022b7de788544ee83d6da2644a83f81",
       "version_major": 2,
       "version_minor": 0
      },
      "text/plain": [
       "FileChooser(path='D:\\3104 - TSU\\ict3104-team10-2022', filename='', title='', show_hidden=False, select_desc='S…"
      ]
     },
     "metadata": {},
     "output_type": "display_data"
    },
    {
     "data": {
      "application/vnd.jupyter.widget-view+json": {
       "model_id": "044337be5ac74ee2babe620ec2321d66",
       "version_major": 2,
       "version_minor": 0
      },
      "text/plain": [
       "Output()"
      ]
     },
     "metadata": {},
     "output_type": "display_data"
    }
   ],
   "source": [
    "from IPython import display\n",
    "from ipyfilechooser import FileChooser\n",
    "from IPython.display import display\n",
    "from IPython.display import IFrame\n",
    "import ipywidgets as widgets\n",
    "\n",
    "output2 = widgets.Output()\n",
    "# ========== FileChooser ==========\n",
    "# Create and display a FileChooser widget\n",
    "fc2 = FileChooser('./')\n",
    "display(fc2)\n",
    "\n",
    "# Restrict navigation to /Users\n",
    "fc2.sandbox_path = './'\n",
    "\n",
    "# Change hidden files\n",
    "fc2.show_hidden = False\n",
    "\n",
    "# Switch to folder-only mode\n",
    "fc2.show_only_dirs = False\n",
    "\n",
    "# Change the title (use '' to hide)\n",
    "fc2.title = '<b>Select File for Training</b>'\n",
    "\n",
    "# Sample callback function\n",
    "def change_display_selected(chooser):\n",
    "    with output2:\n",
    "        print(fc2.selected_filename, end='\\r')\n",
    "    \n",
    "# Register callback function\n",
    "fc2.register_callback(change_display_selected)\n",
    "# ========== END FileChooser END ==========\n",
    "display(output2)"
   ]
  },
  {
   "cell_type": "code",
   "execution_count": 2,
   "metadata": {},
   "outputs": [
    {
     "name": "stdout",
     "output_type": "stream",
     "text": [
      "absl-py==1.1.0\n",
      "alembic==1.6.5\n",
      "argon2-cffi==21.3.0\n",
      "argon2-cffi-bindings==21.2.0\n",
      "asttokens==2.0.5\n",
      "astunparse==1.6.3\n",
      "attrs==21.4.0\n",
      "autopep8==1.6.0\n",
      "backcall==0.2.0\n",
      "backports.entry-points-selectable==1.1.0\n",
      "beautifulsoup4==4.11.1\n",
      "bleach==5.0.1\n",
      "cachetools==5.2.0\n",
      "certifi==2021.10.8\n",
      "cffi==1.15.0\n",
      "charset-normalizer==2.0.12\n",
      "click==8.0.3\n",
      "colorama==0.4.4\n",
      "cycler==0.11.0\n",
      "debugpy==1.6.0\n",
      "decorator==5.1.1\n",
      "defusedxml==0.7.1\n",
      "distlib==0.3.6\n",
      "dominate==2.7.0\n",
      "entrypoints==0.4\n",
      "executing==0.8.3\n",
      "fastjsonschema==2.15.3\n",
      "filelock==3.8.0\n",
      "Flask==2.0.2\n",
      "Flask-Bootstrap==3.3.7.1\n",
      "Flask-Cors==3.0.10\n",
      "flask-marshmallow==0.14.0\n",
      "Flask-Migrate==3.1.0\n",
      "Flask-SQLAlchemy==2.5.1\n",
      "flatbuffers==1.12\n",
      "fonttools==4.32.0\n",
      "gast==0.4.0\n",
      "google-auth==2.9.0\n",
      "google-auth-oauthlib==0.4.6\n",
      "google-pasta==0.2.0\n",
      "greenlet==1.1.2\n",
      "grpcio==1.47.0\n",
      "gunicorn==20.1.0\n",
      "h5py==3.7.0\n",
      "idna==3.3\n",
      "ipyfilechooser==0.6.0\n",
      "ipykernel==6.13.0\n",
      "ipython==8.4.0\n",
      "ipython-genutils==0.2.0\n",
      "ipywidgets==7.7.1\n",
      "itsdangerous==2.0.1\n",
      "jedi==0.18.1\n",
      "Jinja2==3.0.2\n",
      "joblib==1.1.0\n",
      "jsonschema==4.6.0\n",
      "jupyter==1.0.0\n",
      "jupyter-client==7.3.1\n",
      "jupyter-console==6.4.4\n",
      "jupyter-core==4.10.0\n",
      "jupyterlab-pygments==0.2.2\n",
      "jupyterlab-widgets==1.1.1\n",
      "keras==2.9.0\n",
      "Keras-Preprocessing==1.1.2\n",
      "kiwisolver==1.4.2\n",
      "libclang==14.0.1\n",
      "livereload==2.6.1\n",
      "Mako==1.1.4\n",
      "Markdown==3.3.7\n",
      "MarkupSafe==2.0.1\n",
      "marshmallow==3.13.0\n",
      "marshmallow-sqlalchemy==0.26.1\n",
      "mat4py==0.5.0\n",
      "matplotlib==3.5.1\n",
      "matplotlib-inline==0.1.3\n",
      "mistune==0.8.4\n",
      "nbclient==0.6.4\n",
      "nbconvert==6.5.0\n",
      "nbformat==5.4.0\n",
      "nest-asyncio==1.5.5\n",
      "notebook==6.4.12\n",
      "numpy==1.22.3\n",
      "oauthlib==3.2.0\n",
      "opencv-python==4.6.0.66\n",
      "opt-einsum==3.3.0\n",
      "packaging==21.3\n",
      "pandas==1.4.2\n",
      "pandocfilters==1.5.0\n",
      "parso==0.8.3\n",
      "pbr==5.6.0\n",
      "pickleshare==0.7.5\n",
      "Pillow==9.1.0\n",
      "platformdirs==2.4.0\n",
      "praw==7.5.0\n",
      "prawcore==2.3.0\n",
      "prometheus-client==0.14.1\n",
      "prompt-toolkit==3.0.29\n",
      "protobuf==3.19.4\n",
      "psutil==5.9.1\n",
      "pure-eval==0.2.2\n",
      "pyasn1==0.4.8\n",
      "pyasn1-modules==0.2.8\n",
      "pycodestyle==2.8.0\n",
      "pycparser==2.21\n",
      "Pygments==2.12.0\n",
      "pyparsing==3.0.9\n",
      "pyrsistent==0.18.1\n",
      "python-dateutil==2.8.2\n",
      "python-editor==1.0.4\n",
      "pytz==2022.1\n",
      "pywin32==304\n",
      "pywinpty==2.0.5\n",
      "pyzmq==23.0.0\n",
      "qtconsole==5.3.1\n",
      "QtPy==2.1.0\n",
      "requests==2.27.1\n",
      "requests-oauthlib==1.3.1\n",
      "rsa==4.8\n",
      "scikit-learn==1.1.1\n",
      "scipy==1.8.0\n",
      "seaborn==0.11.2\n",
      "Send2Trash==1.8.0\n",
      "six==1.16.0\n",
      "soupsieve==2.3.2.post1\n",
      "SQLAlchemy==1.4.25\n",
      "stack-data==0.2.0\n",
      "stevedore==3.4.0\n",
      "tabulate==0.8.9\n",
      "tensorboard==2.9.1\n",
      "tensorboard-data-server==0.6.1\n",
      "tensorboard-plugin-wit==1.8.1\n",
      "tensorflow==2.9.1\n",
      "tensorflow-estimator==2.9.0\n",
      "tensorflow-gpu==2.9.1\n",
      "tensorflow-io-gcs-filesystem==0.26.0\n",
      "termcolor==1.1.0\n",
      "terminado==0.15.0\n",
      "threadpoolctl==3.1.0\n",
      "tinycss2==1.1.1\n",
      "toml==0.10.2\n",
      "torch==1.12.1\n",
      "torchaudio==0.12.1+cu116\n",
      "tornado==6.1\n",
      "traitlets==5.3.0\n",
      "typing_extensions==4.3.0\n",
      "update-checker==0.18.0\n",
      "urllib3==1.26.9\n",
      "virtualenv==20.16.5\n",
      "virtualenv-clone==0.5.7\n",
      "virtualenvwrapper==4.8.4\n",
      "visitor==0.1.3\n",
      "wcwidth==0.2.5\n",
      "webencodings==0.5.1\n",
      "websocket-client==1.3.2\n",
      "Werkzeug==2.0.2\n",
      "widgetsnbextension==3.6.1\n",
      "wrapt==1.14.1\n"
     ]
    },
    {
     "name": "stderr",
     "output_type": "stream",
     "text": [
      "WARNING: Ignoring invalid distribution -lask (c:\\python310\\lib\\site-packages)\n",
      "WARNING: Ignoring invalid distribution -ip (c:\\python310\\lib\\site-packages)\n"
     ]
    }
   ],
   "source": [
    "!pip freeze"
   ]
  }
 ],
 "metadata": {
  "colab": {
   "authorship_tag": "ABX9TyN+EoD2onQTKrdDorGCO8Sd",
   "provenance": []
  },
  "kernelspec": {
   "display_name": "Python 3.10.4 64-bit",
   "language": "python",
   "name": "python3"
  },
  "language_info": {
   "codemirror_mode": {
    "name": "ipython",
    "version": 3
   },
   "file_extension": ".py",
   "mimetype": "text/x-python",
   "name": "python",
   "nbconvert_exporter": "python",
   "pygments_lexer": "ipython3",
   "version": "3.10.4"
  },
  "varInspector": {
   "cols": {
    "lenName": 16,
    "lenType": 16,
    "lenVar": 40
   },
   "kernels_config": {
    "python": {
     "delete_cmd_postfix": "",
     "delete_cmd_prefix": "del ",
     "library": "var_list.py",
     "varRefreshCmd": "print(var_dic_list())"
    },
    "r": {
     "delete_cmd_postfix": ") ",
     "delete_cmd_prefix": "rm(",
     "library": "var_list.r",
     "varRefreshCmd": "cat(var_dic_list()) "
    }
   },
   "types_to_exclude": [
    "module",
    "function",
    "builtin_function_or_method",
    "instance",
    "_Feature"
   ],
   "window_display": false
  },
  "vscode": {
   "interpreter": {
    "hash": "369f2c481f4da34e4445cda3fffd2e751bd1c4d706f27375911949ba6bb62e1c"
   }
  }
 },
 "nbformat": 4,
 "nbformat_minor": 1
}
