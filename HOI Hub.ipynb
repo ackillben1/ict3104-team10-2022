{
 "cells": [
  {
   "cell_type": "markdown",
   "metadata": {},
   "source": [
    "# Installations & Util"
   ]
  },
  {
   "cell_type": "code",
   "execution_count": 11,
   "metadata": {
    "init_cell": true,
    "scrolled": true
   },
   "outputs": [
    {
     "name": "stdout",
     "output_type": "stream",
     "text": [
      "Requirement already satisfied: ipyfilechooser in c:\\users\\jaspz\\appdata\\local\\programs\\python\\python310\\lib\\site-packages (0.6.0)\n",
      "Requirement already satisfied: ipywidgets in c:\\users\\jaspz\\appdata\\local\\programs\\python\\python310\\lib\\site-packages (8.0.2)\n",
      "Requirement already satisfied: pandas in c:\\users\\jaspz\\appdata\\local\\programs\\python\\python310\\lib\\site-packages (1.5.0)\n",
      "Requirement already satisfied: moviepy in c:\\users\\jaspz\\appdata\\local\\programs\\python\\python310\\lib\\site-packages (1.0.3)\n",
      "Requirement already satisfied: jupyterlab-widgets~=3.0 in c:\\users\\jaspz\\appdata\\local\\programs\\python\\python310\\lib\\site-packages (from ipywidgets) (3.0.3)\n",
      "Requirement already satisfied: traitlets>=4.3.1 in c:\\users\\jaspz\\appdata\\local\\programs\\python\\python310\\lib\\site-packages (from ipywidgets) (5.4.0)\n",
      "Requirement already satisfied: ipykernel>=4.5.1 in c:\\users\\jaspz\\appdata\\local\\programs\\python\\python310\\lib\\site-packages (from ipywidgets) (6.15.3)\n",
      "Requirement already satisfied: widgetsnbextension~=4.0 in c:\\users\\jaspz\\appdata\\local\\programs\\python\\python310\\lib\\site-packages (from ipywidgets) (4.0.3)\n",
      "Requirement already satisfied: ipython>=6.1.0 in c:\\users\\jaspz\\appdata\\local\\programs\\python\\python310\\lib\\site-packages (from ipywidgets) (8.5.0)\n",
      "Requirement already satisfied: python-dateutil>=2.8.1 in c:\\users\\jaspz\\appdata\\local\\programs\\python\\python310\\lib\\site-packages (from pandas) (2.8.2)\n",
      "Requirement already satisfied: pytz>=2020.1 in c:\\users\\jaspz\\appdata\\local\\programs\\python\\python310\\lib\\site-packages (from pandas) (2022.2.1)\n",
      "Requirement already satisfied: numpy>=1.21.0 in c:\\users\\jaspz\\appdata\\local\\programs\\python\\python310\\lib\\site-packages (from pandas) (1.23.3)\n",
      "Requirement already satisfied: requests<3.0,>=2.8.1 in c:\\users\\jaspz\\appdata\\local\\programs\\python\\python310\\lib\\site-packages (from moviepy) (2.27.1)\n",
      "Requirement already satisfied: imageio<3.0,>=2.5 in c:\\users\\jaspz\\appdata\\local\\programs\\python\\python310\\lib\\site-packages (from moviepy) (2.22.0)\n",
      "Requirement already satisfied: proglog<=1.0.0 in c:\\users\\jaspz\\appdata\\local\\programs\\python\\python310\\lib\\site-packages (from moviepy) (0.1.10)\n",
      "Requirement already satisfied: tqdm<5.0,>=4.11.2 in c:\\users\\jaspz\\appdata\\local\\programs\\python\\python310\\lib\\site-packages (from moviepy) (4.64.1)\n",
      "Requirement already satisfied: decorator<5.0,>=4.0.2 in c:\\users\\jaspz\\appdata\\local\\programs\\python\\python310\\lib\\site-packages (from moviepy) (4.4.2)\n",
      "Requirement already satisfied: imageio-ffmpeg>=0.2.0 in c:\\users\\jaspz\\appdata\\local\\programs\\python\\python310\\lib\\site-packages (from moviepy) (0.4.7)\n",
      "Requirement already satisfied: pillow>=8.3.2 in c:\\users\\jaspz\\appdata\\local\\programs\\python\\python310\\lib\\site-packages (from imageio<3.0,>=2.5->moviepy) (9.2.0)\n",
      "Requirement already satisfied: psutil in c:\\users\\jaspz\\appdata\\local\\programs\\python\\python310\\lib\\site-packages (from ipykernel>=4.5.1->ipywidgets) (5.9.2)\n",
      "Requirement already satisfied: pyzmq>=17 in c:\\users\\jaspz\\appdata\\local\\programs\\python\\python310\\lib\\site-packages (from ipykernel>=4.5.1->ipywidgets) (24.0.0)\n",
      "Requirement already satisfied: tornado>=6.1 in c:\\users\\jaspz\\appdata\\local\\programs\\python\\python310\\lib\\site-packages (from ipykernel>=4.5.1->ipywidgets) (6.2)\n",
      "Requirement already satisfied: debugpy>=1.0 in c:\\users\\jaspz\\appdata\\local\\programs\\python\\python310\\lib\\site-packages (from ipykernel>=4.5.1->ipywidgets) (1.6.3)\n",
      "Requirement already satisfied: matplotlib-inline>=0.1 in c:\\users\\jaspz\\appdata\\local\\programs\\python\\python310\\lib\\site-packages (from ipykernel>=4.5.1->ipywidgets) (0.1.6)\n",
      "Requirement already satisfied: packaging in c:\\users\\jaspz\\appdata\\local\\programs\\python\\python310\\lib\\site-packages (from ipykernel>=4.5.1->ipywidgets) (21.3)\n",
      "Requirement already satisfied: jupyter-client>=6.1.12 in c:\\users\\jaspz\\appdata\\local\\programs\\python\\python310\\lib\\site-packages (from ipykernel>=4.5.1->ipywidgets) (7.3.5)\n",
      "Requirement already satisfied: nest-asyncio in c:\\users\\jaspz\\appdata\\local\\programs\\python\\python310\\lib\\site-packages (from ipykernel>=4.5.1->ipywidgets) (1.5.5)\n",
      "Requirement already satisfied: colorama in c:\\users\\jaspz\\appdata\\local\\programs\\python\\python310\\lib\\site-packages (from ipython>=6.1.0->ipywidgets) (0.4.5)\n",
      "Requirement already satisfied: jedi>=0.16 in c:\\users\\jaspz\\appdata\\local\\programs\\python\\python310\\lib\\site-packages (from ipython>=6.1.0->ipywidgets) (0.18.1)\n",
      "Requirement already satisfied: backcall in c:\\users\\jaspz\\appdata\\local\\programs\\python\\python310\\lib\\site-packages (from ipython>=6.1.0->ipywidgets) (0.2.0)\n",
      "Requirement already satisfied: stack-data in c:\\users\\jaspz\\appdata\\local\\programs\\python\\python310\\lib\\site-packages (from ipython>=6.1.0->ipywidgets) (0.5.0)\n",
      "Requirement already satisfied: prompt-toolkit<3.1.0,>3.0.1 in c:\\users\\jaspz\\appdata\\local\\programs\\python\\python310\\lib\\site-packages (from ipython>=6.1.0->ipywidgets) (3.0.31)\n",
      "Requirement already satisfied: pygments>=2.4.0 in c:\\users\\jaspz\\appdata\\local\\programs\\python\\python310\\lib\\site-packages (from ipython>=6.1.0->ipywidgets) (2.13.0)\n",
      "Requirement already satisfied: pickleshare in c:\\users\\jaspz\\appdata\\local\\programs\\python\\python310\\lib\\site-packages (from ipython>=6.1.0->ipywidgets) (0.7.5)\n",
      "Requirement already satisfied: six>=1.5 in c:\\users\\jaspz\\appdata\\local\\programs\\python\\python310\\lib\\site-packages (from python-dateutil>=2.8.1->pandas) (1.16.0)\n",
      "Requirement already satisfied: urllib3<1.27,>=1.21.1 in c:\\users\\jaspz\\appdata\\local\\programs\\python\\python310\\lib\\site-packages (from requests<3.0,>=2.8.1->moviepy) (1.26.9)\n",
      "Requirement already satisfied: charset-normalizer~=2.0.0 in c:\\users\\jaspz\\appdata\\local\\programs\\python\\python310\\lib\\site-packages (from requests<3.0,>=2.8.1->moviepy) (2.0.12)\n",
      "Requirement already satisfied: certifi>=2017.4.17 in c:\\users\\jaspz\\appdata\\local\\programs\\python\\python310\\lib\\site-packages (from requests<3.0,>=2.8.1->moviepy) (2021.10.8)\n",
      "Requirement already satisfied: idna<4,>=2.5 in c:\\users\\jaspz\\appdata\\local\\programs\\python\\python310\\lib\\site-packages (from requests<3.0,>=2.8.1->moviepy) (3.3)\n",
      "Requirement already satisfied: parso<0.9.0,>=0.8.0 in c:\\users\\jaspz\\appdata\\local\\programs\\python\\python310\\lib\\site-packages (from jedi>=0.16->ipython>=6.1.0->ipywidgets) (0.8.3)\n",
      "Requirement already satisfied: jupyter-core>=4.9.2 in c:\\users\\jaspz\\appdata\\local\\programs\\python\\python310\\lib\\site-packages (from jupyter-client>=6.1.12->ipykernel>=4.5.1->ipywidgets) (4.11.1)\n",
      "Requirement already satisfied: entrypoints in c:\\users\\jaspz\\appdata\\local\\programs\\python\\python310\\lib\\site-packages (from jupyter-client>=6.1.12->ipykernel>=4.5.1->ipywidgets) (0.4)\n",
      "Requirement already satisfied: wcwidth in c:\\users\\jaspz\\appdata\\local\\programs\\python\\python310\\lib\\site-packages (from prompt-toolkit<3.1.0,>3.0.1->ipython>=6.1.0->ipywidgets) (0.2.5)\n",
      "Requirement already satisfied: pyparsing!=3.0.5,>=2.0.2 in c:\\users\\jaspz\\appdata\\local\\programs\\python\\python310\\lib\\site-packages (from packaging->ipykernel>=4.5.1->ipywidgets) (3.0.9)\n",
      "Requirement already satisfied: asttokens in c:\\users\\jaspz\\appdata\\local\\programs\\python\\python310\\lib\\site-packages (from stack-data->ipython>=6.1.0->ipywidgets) (2.0.8)\n",
      "Requirement already satisfied: pure-eval in c:\\users\\jaspz\\appdata\\local\\programs\\python\\python310\\lib\\site-packages (from stack-data->ipython>=6.1.0->ipywidgets) (0.2.2)\n",
      "Requirement already satisfied: executing in c:\\users\\jaspz\\appdata\\local\\programs\\python\\python310\\lib\\site-packages (from stack-data->ipython>=6.1.0->ipywidgets) (1.0.0)\n",
      "Requirement already satisfied: pywin32>=1.0 in c:\\users\\jaspz\\appdata\\local\\programs\\python\\python310\\lib\\site-packages (from jupyter-core>=4.9.2->jupyter-client>=6.1.12->ipykernel>=4.5.1->ipywidgets) (304)\n"
     ]
    }
   ],
   "source": [
    "! pip install ipyfilechooser ipywidgets pandas moviepy"
   ]
  },
  {
   "cell_type": "markdown",
   "metadata": {},
   "source": [
    "## Code Hiding"
   ]
  },
  {
   "cell_type": "code",
   "execution_count": 12,
   "metadata": {
    "init_cell": true,
    "scrolled": false
   },
   "outputs": [
    {
     "data": {
      "text/html": [
       "<script>$(\"div.input\").hide()</script>"
      ],
      "text/plain": [
       "<IPython.core.display.HTML object>"
      ]
     },
     "metadata": {},
     "output_type": "display_data"
    },
    {
     "data": {
      "application/vnd.jupyter.widget-view+json": {
       "model_id": "943bf0a5ac6548d3a1071320d875b10c",
       "version_major": 2,
       "version_minor": 0
      },
      "text/plain": [
       "ToggleButton(value=False, description='Show code')"
      ]
     },
     "metadata": {},
     "output_type": "display_data"
    },
    {
     "data": {
      "text/html": [
       "<script>$(\"div.input\").show()</script>"
      ],
      "text/plain": [
       "<IPython.core.display.HTML object>"
      ]
     },
     "metadata": {},
     "output_type": "display_data"
    }
   ],
   "source": [
    "import ipywidgets as widgets\n",
    "from IPython.display import display, HTML\n",
    "# ========== TOGGLE BTN ==========\n",
    "javascript_functions = {False: \"hide()\", True: \"show()\"}\n",
    "button_descriptions  = {False: \"Show code\", True: \"Hide code\"}\n",
    "\n",
    "def toggle_code(state):\n",
    "    \"\"\"\n",
    "    Toggles the JavaScript show()/hide() function on the div.input element.\n",
    "    \"\"\"\n",
    "    output_string = \"<script>$(\\\"div.input\\\").{}</script>\"\n",
    "    output_args   = (javascript_functions[state],)\n",
    "    output        = output_string.format(*output_args)\n",
    "    display(HTML(output))\n",
    "\n",
    "def button_action(value):\n",
    "    \"\"\"\n",
    "    Calls the toggle_code function and updates the button description.\n",
    "    \"\"\"\n",
    "    state = value.new\n",
    "    toggle_code(state)\n",
    "    value.owner.description = button_descriptions[state]\n",
    "    \n",
    "state = False\n",
    "toggle_code(state)\n",
    "\n",
    "button = widgets.ToggleButton(state, description = button_descriptions[state])\n",
    "button.observe(button_action, \"value\")\n",
    "# ========== END TOGGLE BTN END ==========\n",
    "display(button)"
   ]
  },
  {
   "cell_type": "markdown",
   "metadata": {},
   "source": [
    "# Data Exploration"
   ]
  },
  {
   "cell_type": "markdown",
   "metadata": {},
   "source": [
    "## File Upload"
   ]
  },
  {
   "cell_type": "code",
   "execution_count": 13,
   "metadata": {
    "init_cell": true,
    "scrolled": true
   },
   "outputs": [
    {
     "data": {
      "application/vnd.jupyter.widget-view+json": {
       "model_id": "d12a4f41622347d688cfc858e67cb146",
       "version_major": 2,
       "version_minor": 0
      },
      "text/plain": [
       "FileChooser(path='C:\\Users', filename='', title='<b>Select File (*zip)</b>', show_hidden=False, select_desc='S…"
      ]
     },
     "metadata": {},
     "output_type": "display_data"
    },
    {
     "data": {
      "application/vnd.jupyter.widget-view+json": {
       "model_id": "006662987c9e458a8d7897d2ae90f747",
       "version_major": 2,
       "version_minor": 0
      },
      "text/plain": [
       "Button(button_style='info', description='Confirm Upload', style=ButtonStyle(), tooltip='Confirm')"
      ]
     },
     "metadata": {},
     "output_type": "display_data"
    },
    {
     "data": {
      "application/vnd.jupyter.widget-view+json": {
       "model_id": "254bfe7c2a0f45759de0935494f331f8",
       "version_major": 2,
       "version_minor": 0
      },
      "text/plain": [
       "Output()"
      ]
     },
     "metadata": {},
     "output_type": "display_data"
    }
   ],
   "source": [
    "import ipywidgets as widgets\n",
    "from IPython.display import display, HTML\n",
    "from ipyfilechooser import FileChooser\n",
    "import zipfile as zf\n",
    "from ipywidgets import Button\n",
    "\n",
    "# ========== FileChooser ==========\n",
    "# Create and display a FileChooser widget\n",
    "fc = FileChooser('/Users')\n",
    "\n",
    "# Change defaults and reset the dialog\n",
    "# fc.default_path = './'\n",
    "# fc.reset()\n",
    "\n",
    "# Restrict navigation to /Users\n",
    "fc.sandbox_path = '/Users'\n",
    "\n",
    "# Change hidden files\n",
    "fc.show_hidden = False\n",
    "\n",
    "# Switch to folder-only mode\n",
    "fc.show_only_dirs = False\n",
    "\n",
    "# Set multiple file filter patterns (uses https://docs.python.org/3/library/fnmatch.html)\n",
    "# fc.filter_pattern = ['*.jpg', '*.png','*.txt']\n",
    "# fc.filter_pattern = ['*.zip']\n",
    "fc.filter_pattern = ['*.png']\n",
    "\n",
    "# Change the title (use '' to hide)\n",
    "fc.title = '<b>Select File (*zip)</b>'\n",
    "\n",
    "# Sample callback function\n",
    "def change_display_selected(chooser):\n",
    "    print(fc.selected_filename, end='\\r')\n",
    "\n",
    "# Register callback function\n",
    "fc.register_callback(change_display_selected)\n",
    "\n",
    "def on_button_clicked(b):\n",
    "    # FILE UPLOAD\n",
    "    print(fc.selected)\n",
    "    fn = fc.selected_filename.replace('.zip', '')\n",
    "    files = zf.ZipFile(fc.selected_path+\"\\\\\"+fc.selected_filename, 'r')\n",
    "    files.extractall('Data Folder\\\\'+fn)\n",
    "    files.close()\n",
    "    with output:\n",
    "        print(\"Files saved.\")\n",
    "# ========== END FileChooser END ==========\n",
    "# ========== CONFIRM BTN ==========\n",
    "confirmBtn = widgets.Button(\n",
    "    description='Confirm Upload',\n",
    "    button_style='info', # 'success', 'info', 'warning', 'danger' or ''\n",
    "    tooltip='Confirm',\n",
    ")\n",
    "output = widgets.Output()\n",
    "confirmBtn.on_click(on_button_clicked)\n",
    "# ========== CONFIRM BTN ==========\n",
    "display(fc)\n",
    "display(confirmBtn, output)"
   ]
  },
  {
   "cell_type": "markdown",
   "metadata": {
    "heading_collapsed": true
   },
   "source": [
    "# Inference"
   ]
  },
  {
   "cell_type": "code",
   "execution_count": null,
   "metadata": {
    "hidden": true,
    "scrolled": false
   },
   "outputs": [],
   "source": [
    "import cv2\n",
    "import pandas as pd\n",
    "from moviepy.editor import VideoFileClip\n",
    "\n",
    "def output(frame):\n",
    "    try:\n",
    "        cv2.putText(frame, str(next(df)[1].captions), position, cv2.FONT_HERSHEY_SIMPLEX, 1, (255, 255, 255), 3, cv2.LINE_AA)\n",
    "\n",
    "    # Exception called when next in iterator ends so except error here\n",
    "    except StopIteration:\n",
    "        pass\n",
    "\n",
    "    return frame\n",
    "\n",
    "\n",
    "# Path to video\n",
    "video_path = \"video.mp4\"\n",
    "\n",
    "# Capture video\n",
    "cap = cv2.VideoCapture(video_path)\n",
    "\n",
    "# Get video height and width from captured video\n",
    "frame_width = int(cap.get(3))\n",
    "frame_height = int(cap.get(4))\n",
    "\n",
    "# Set position for text with offset of text size\n",
    "position = ((int((frame_width/2)-(268/2))), int(((frame_height/2)-(36/2))))\n",
    "\n",
    "video = VideoFileClip(video_path)\n",
    "\n",
    "# Path to caption\n",
    "caption = \"captions.csv\"\n",
    "\n",
    "df = pd.read_csv(caption).iterrows()\n",
    "\n",
    "# Modifies the images of a clip by replacing the frame\n",
    "out_video = video.fl_image(output)\n",
    "\n",
    "# Write edited video to file\n",
    "out_video.write_videofile(\"output.mp4\", audio = True)\n",
    "\n",
    "# Close video file clip\n",
    "out_video.close()"
   ]
  },
  {
   "cell_type": "markdown",
   "metadata": {},
   "source": [
    "# Training"
   ]
  },
  {
   "cell_type": "markdown",
   "metadata": {},
   "source": [
    "## Select File for Training"
   ]
  },
  {
   "cell_type": "code",
   "execution_count": null,
   "metadata": {
    "scrolled": true
   },
   "outputs": [],
   "source": [
    "from IPython import display\n",
    "from ipyfilechooser import FileChooser\n",
    "from IPython.display import display\n",
    "from IPython.display import IFrame\n",
    "import ipywidgets as widgets\n",
    "from IPython.display import Video\n",
    "\n",
    "output2 = widgets.Output()\n",
    "# ========== FileChooser ==========\n",
    "# Create and display a FileChooser widget\n",
    "fc2 = FileChooser('./Data Folder')\n",
    "display(fc2)\n",
    "\n",
    "# Restrict navigation to /Users\n",
    "fc2.sandbox_path = './Data Folder'\n",
    "\n",
    "# Change hidden files\n",
    "fc2.show_hidden = False\n",
    "\n",
    "# Switch to folder-only mode\n",
    "fc2.show_only_dirs = False\n",
    "\n",
    "# Change the title (use '' to hide)\n",
    "fc2.title = '<b>Select File for Training</b>'\n",
    "\n",
    "# Sample callback function\n",
    "def change_display_selected(chooser):\n",
    "    with output2:\n",
    "#         print(fc2.selected_filename, end='\\r')\n",
    "        print(fc2.selected_path+\"\\\\\"+fc2.selected_filename, end='\\r')\n",
    "#     runVid(fc2.selected_path+\"\\\\\"+fc2.selected_filename)\n",
    "#         Video(fc2.selected_path+\"\\\\\"+fc2.selected_filename)\n",
    "    \n",
    "# Register callback function\n",
    "fc2.register_callback(change_display_selected)\n",
    "# ========== END FileChooser END ==========\n",
    "display(output2)"
   ]
  },
  {
   "cell_type": "markdown",
   "metadata": {},
   "source": [
    "# Testing"
   ]
  },
  {
   "cell_type": "markdown",
   "metadata": {},
   "source": [
    "Insert testing components"
   ]
  }
 ],
 "metadata": {
  "celltoolbar": "Initialization Cell",
  "colab": {
   "authorship_tag": "ABX9TyN+EoD2onQTKrdDorGCO8Sd",
   "provenance": []
  },
  "kernelspec": {
   "display_name": "Python 3 (ipykernel)",
   "language": "python",
   "name": "python3"
  },
  "language_info": {
   "codemirror_mode": {
    "name": "ipython",
    "version": 3
   },
   "file_extension": ".py",
   "mimetype": "text/x-python",
   "name": "python",
   "nbconvert_exporter": "python",
   "pygments_lexer": "ipython3",
   "version": "3.10.7"
  },
  "toc": {
   "base_numbering": 1,
   "nav_menu": {},
   "number_sections": true,
   "sideBar": true,
   "skip_h1_title": false,
   "title_cell": "Table of Contents",
   "title_sidebar": "Contents",
   "toc_cell": false,
   "toc_position": {},
   "toc_section_display": true,
   "toc_window_display": false
  },
  "varInspector": {
   "cols": {
    "lenName": 16,
    "lenType": 16,
    "lenVar": 40
   },
   "kernels_config": {
    "python": {
     "delete_cmd_postfix": "",
     "delete_cmd_prefix": "del ",
     "library": "var_list.py",
     "varRefreshCmd": "print(var_dic_list())"
    },
    "r": {
     "delete_cmd_postfix": ") ",
     "delete_cmd_prefix": "rm(",
     "library": "var_list.r",
     "varRefreshCmd": "cat(var_dic_list()) "
    }
   },
   "types_to_exclude": [
    "module",
    "function",
    "builtin_function_or_method",
    "instance",
    "_Feature"
   ],
   "window_display": false
  }
 },
 "nbformat": 4,
 "nbformat_minor": 1
}
