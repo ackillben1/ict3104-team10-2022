{
 "cells": [
  {
   "cell_type": "markdown",
   "metadata": {},
   "source": [
    "# Data Exploration"
   ]
  },
  {
   "cell_type": "markdown",
   "metadata": {},
   "source": [
    "### T10-4\n",
    "As a USER, I want to have a Data Exploration Section in the notebook so that I can easily locate the upload and playback functions in the notebook."
   ]
  },
  {
   "cell_type": "markdown",
   "metadata": {},
   "source": [
    "# Inference"
   ]
  },
  {
   "cell_type": "markdown",
   "metadata": {},
   "source": [
    "### T10-7\n",
    "As a USER, I want to have an Inference Section in the notebook so that I can easily locate the Inference Section in the notebook."
   ]
  },
  {
   "cell_type": "code",
   "execution_count": 3,
   "outputs": [
    {
     "name": "stdout",
     "output_type": "stream",
     "text": [
      "Released Video Resource\n"
     ]
    }
   ],
   "source": [
    "import cv2\n",
    "\n",
    "def output(video):\n",
    "    cap = cv2.VideoCapture(video)\n",
    "    # Check if camera opened\n",
    "    if not cap.isOpened():\n",
    "        print(\"Error opening video file\")\n",
    "\n",
    "    # Get video height and width\n",
    "    # frame_width = int(cap.get(3))\n",
    "    # frame_height = int(cap.get(4))\n",
    "\n",
    "    # Define output file name and format, codec used, define fps and the frame size\n",
    "    # output_video = cv2.VideoWriter('output.avi',cv2.VideoWriter_fourcc('M','J','P','G'), 30.0,\n",
    "    #                                (frame_width,frame_height))\n",
    "\n",
    "    try:\n",
    "        while cap.isOpened():\n",
    "            # Capture frame by frame\n",
    "            ret, frame = cap.read()\n",
    "\n",
    "            # Check if there are frames captured\n",
    "            if not ret:\n",
    "                # Destroy frame window\n",
    "                cv2.destroyAllWindows()\n",
    "                # Release the Video Device\n",
    "                cap.release()\n",
    "                break\n",
    "\n",
    "            # writing the new frame in output\n",
    "            # frame = cv2.cvtColor(frame, cv2.COLOR_BGR2RGB)\n",
    "            # pyplot.axis('off')\n",
    "            # pyplot.imshow(frame)\n",
    "            # pyplot.title('output')\n",
    "            # pyplot.show()\n",
    "            # clear_output(wait=True)\n",
    "\n",
    "            # Write camera capture into video\n",
    "            # output_video.write(frame)\n",
    "\n",
    "            # Display video in a frame\n",
    "            cv2.imshow('Frame', frame)\n",
    "\n",
    "            # Press Q to quit player\n",
    "            if cv2.waitKey(25) & 0xFF == ord('q'):\n",
    "                break\n",
    "                \n",
    "        # Release the Video Device\n",
    "        cv2.destroyAllWindows()\n",
    "        cap.release()\n",
    "        # Message to be displayed after releasing the device\n",
    "        print(\"Released Video Resource\")\n",
    "\n",
    "    # To catch when stopping cell run in notebook\n",
    "    except KeyboardInterrupt:\n",
    "        cv2.destroyAllWindows()\n",
    "        cap.release()\n",
    "        # Message to be displayed after releasing the device\n",
    "        print(\"Released Video Resource\")\n",
    "\n",
    "if __name__ == \"__main__\":\n",
    "    output(\"\") # video path and file here"
   ],
   "metadata": {
    "collapsed": false
   }
  },
  {
   "cell_type": "markdown",
   "metadata": {},
   "source": [
    "# Training"
   ]
  },
  {
   "cell_type": "markdown",
   "metadata": {},
   "source": [
    "### T10-6\n",
    "As a USER, I want to have a Training Section in the notebook so that I can easily locate the training related functions in the notebook."
   ]
  },
  {
   "cell_type": "code",
   "execution_count": null,
   "metadata": {
    "id": "iAH-1vx4sGlg",
    "scrolled": false
   },
   "outputs": [],
   "source": []
  }
 ],
 "metadata": {
  "colab": {
   "authorship_tag": "ABX9TyN+EoD2onQTKrdDorGCO8Sd",
   "provenance": []
  },
  "kernelspec": {
   "display_name": "Python 3 (ipykernel)",
   "language": "python",
   "name": "python3"
  },
  "language_info": {
   "codemirror_mode": {
    "name": "ipython",
    "version": 3
   },
   "file_extension": ".py",
   "mimetype": "text/x-python",
   "name": "python",
   "nbconvert_exporter": "python",
   "pygments_lexer": "ipython3",
   "version": "3.7.5"
  },
  "varInspector": {
   "cols": {
    "lenName": 16,
    "lenType": 16,
    "lenVar": 40
   },
   "kernels_config": {
    "python": {
     "delete_cmd_postfix": "",
     "delete_cmd_prefix": "del ",
     "library": "var_list.py",
     "varRefreshCmd": "print(var_dic_list())"
    },
    "r": {
     "delete_cmd_postfix": ") ",
     "delete_cmd_prefix": "rm(",
     "library": "var_list.r",
     "varRefreshCmd": "cat(var_dic_list()) "
    }
   },
   "types_to_exclude": [
    "module",
    "function",
    "builtin_function_or_method",
    "instance",
    "_Feature"
   ],
   "window_display": false
  }
 },
 "nbformat": 4,
 "nbformat_minor": 1
}
