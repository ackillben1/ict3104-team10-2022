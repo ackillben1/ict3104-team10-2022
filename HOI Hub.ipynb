{
 "cells": [
  {
   "cell_type": "code",
   "execution_count": 6,
   "metadata": {
    "scrolled": true
   },
   "outputs": [
    {
     "name": "stdout",
     "output_type": "stream",
     "text": [
      "asttokens==2.0.8\n",
      "backcall==0.2.0\n",
      "certifi @ file:///C:/b/abs_4f5wo627a3/croots/recipe/certifi_1663615677642/work/certifi\n",
      "charset-normalizer==2.1.1\n",
      "colorama==0.4.5\n",
      "debugpy==1.6.3\n",
      "decorator==4.4.2\n",
      "entrypoints==0.4\n",
      "executing==1.1.0\n",
      "idna==3.4\n",
      "imageio==2.22.0\n",
      "imageio-ffmpeg==0.4.7\n",
      "ipyfilechooser==0.6.0\n",
      "ipykernel==6.16.0\n",
      "ipython==8.5.0\n",
      "ipywidgets==8.0.2\n",
      "jedi==0.18.1\n",
      "jupyter-core==4.11.1\n",
      "jupyter_client==7.3.5\n",
      "jupyterlab-widgets==3.0.3\n",
      "matplotlib-inline==0.1.6\n",
      "mkl-fft==1.3.1\n",
      "mkl-random @ file:///C:/ci/mkl_random_1626186184308/work\n",
      "mkl-service==2.4.0\n",
      "moviepy==1.0.3\n",
      "nest-asyncio==1.5.5\n",
      "numpy @ file:///C:/Windows/Temp/abs_2a1e1vbeag/croots/recipe/numpy_and_numpy_base_1659432712056/work\n",
      "packaging==21.3\n",
      "pandas==1.5.0\n",
      "parso==0.8.3\n",
      "pickleshare==0.7.5\n",
      "Pillow==9.2.0\n",
      "proglog==0.1.10\n",
      "prompt-toolkit==3.0.31\n",
      "psutil==5.9.2\n",
      "pure-eval==0.2.2\n",
      "Pygments==2.13.0\n",
      "pyparsing==3.0.9\n",
      "python-dateutil==2.8.2\n",
      "pytz==2022.2.1\n",
      "pywin32==304\n",
      "pyzmq==24.0.1\n",
      "requests==2.28.1\n",
      "six @ file:///tmp/build/80754af9/six_1644875935023/work\n",
      "stack-data==0.5.1\n",
      "torch==1.9.1\n",
      "torchaudio==0.9.1\n",
      "torchvision==0.10.1\n",
      "tornado==6.2\n",
      "tqdm==4.64.1\n",
      "traitlets==5.4.0\n",
      "typing_extensions @ file:///C:/Windows/TEMP/abs_dd2d0moa85/croots/recipe/typing_extensions_1659638831135/work\n",
      "urllib3==1.26.12\n",
      "wcwidth==0.2.5\n",
      "widgetsnbextension==4.0.3\n",
      "wincertstore==0.2\n"
     ]
    }
   ],
   "source": [
    "!pip freeze"
   ]
  },
  {
   "cell_type": "code",
   "execution_count": 8,
   "metadata": {
    "scrolled": true
   },
   "outputs": [
    {
     "name": "stdout",
     "output_type": "stream",
     "text": [
      "Random_SEED!!!: 0\n",
      "PDAN\n",
      "batch_size: 1\n",
      "cuda_avail True\n",
      "RGB mode ./pipline/RGB_i3d_16frames_64000_SSD\n",
      "./pipline/data/smarthome_CS_51.json ./pipline/data/smarthome_CS_51.json ./pipline/RGB_i3d_16frames_64000_SSD 1 51\n",
      "Random_SEED!!!: 0\n",
      "Random_SEED!!!: 0\n",
      "Random_SEED!!!: 0\n",
      "Random_SEED!!!: 0\n",
      "Random_SEED!!!: 0\n",
      "Random_SEED!!!: 0\n",
      "Random_SEED!!!: 0\n",
      "Random_SEED!!!: 0\n",
      "Random_SEED!!!: 0\n",
      "Random_SEED!!!: 0\n",
      "you are processing PDAN\n",
      "loaded ./pipline/dataset/PDAN_TSU_RGB\n",
      "pytorch_total_params 5804083\n",
      "num_channel: 512 input_channnel: 1024 num_classes: 51\n",
      "0.0002\n",
      "Epoch 0/0\n",
      "----------\n",
      "train-map: tensor(44.9021)\n",
      "val-map: tensor(32.0773)\n",
      "tensor([42.4594, 48.5667, 41.7251, 42.3732, 40.6359, 43.3911, 39.2665, 28.5796,\n",
      "        41.4261, 19.2768, 17.7311,  6.0897,  0.6160, 35.8210, 37.1473,  2.9251,\n",
      "        22.4334, 52.2854,  2.6481, 70.7477, 27.3019, 45.6452, 52.7737,  2.8811,\n",
      "         1.5986, 62.0351, 33.7371, 54.8382, 58.9922, 14.6661,  5.5195,  1.3654,\n",
      "        39.3078,  2.3473, 42.4926, 86.0436, 39.7756, 15.0927, 24.5697,  9.0147,\n",
      "        66.9524, 26.9760, 16.4593, 68.5168,  2.3022, 79.1822, 67.0275, 29.7212,\n",
      "        20.4103,  1.9478,  0.3042])\n",
      "save here: ./pipline/PDAN/weight_epoch_0.0002_0\n"
     ]
    },
    {
     "name": "stderr",
     "output_type": "stream",
     "text": [
      "\n",
      "  0%|          | 0/536 [00:00<?, ?it/s]\n",
      "  4%|3         | 19/536 [00:00<00:02, 177.56it/s]\n",
      "  7%|6         | 37/536 [00:00<00:03, 128.31it/s]\n",
      " 10%|9         | 51/536 [00:00<00:04, 113.37it/s]\n",
      " 12%|#1        | 64/536 [00:00<00:04, 117.19it/s]\n",
      " 14%|#4        | 77/536 [00:00<00:04, 100.28it/s]\n",
      " 17%|#7        | 93/536 [00:00<00:04, 109.72it/s]\n",
      " 20%|#9        | 105/536 [00:00<00:03, 107.88it/s]\n",
      " 22%|##2       | 118/536 [00:01<00:03, 112.64it/s]\n",
      " 24%|##4       | 130/536 [00:01<00:04, 97.15it/s] \n",
      " 27%|##7       | 147/536 [00:01<00:03, 110.31it/s]\n",
      " 30%|##9       | 160/536 [00:01<00:03, 113.86it/s]\n",
      " 32%|###2      | 172/536 [00:01<00:03, 91.21it/s] \n",
      " 34%|###3      | 182/536 [00:01<00:03, 89.93it/s]\n",
      " 36%|###5      | 192/536 [00:01<00:04, 75.79it/s]\n",
      " 38%|###7      | 201/536 [00:02<00:04, 74.19it/s]\n",
      " 40%|###9      | 212/536 [00:02<00:04, 79.27it/s]\n",
      " 42%|####1     | 223/536 [00:02<00:03, 82.47it/s]\n",
      " 43%|####3     | 232/536 [00:02<00:03, 78.90it/s]\n",
      " 45%|####4     | 241/536 [00:02<00:04, 69.22it/s]\n",
      " 47%|####7     | 254/536 [00:02<00:03, 80.97it/s]\n",
      " 49%|####9     | 263/536 [00:02<00:03, 73.22it/s]\n",
      " 51%|#####1    | 276/536 [00:02<00:03, 84.51it/s]\n",
      " 54%|#####3    | 287/536 [00:03<00:02, 88.96it/s]\n",
      " 55%|#####5    | 297/536 [00:03<00:02, 91.08it/s]\n",
      " 57%|#####7    | 307/536 [00:03<00:02, 78.78it/s]\n",
      " 60%|######    | 323/536 [00:03<00:02, 96.85it/s]\n",
      " 62%|######2   | 334/536 [00:03<00:02, 82.73it/s]\n",
      " 64%|######4   | 344/536 [00:03<00:02, 79.22it/s]\n",
      " 66%|######5   | 353/536 [00:03<00:02, 73.70it/s]\n",
      " 68%|######7   | 363/536 [00:04<00:02, 77.95it/s]\n",
      " 71%|#######   | 379/536 [00:04<00:01, 96.94it/s]\n",
      " 73%|#######2  | 390/536 [00:04<00:01, 99.77it/s]\n",
      " 75%|#######4  | 401/536 [00:04<00:01, 82.31it/s]\n",
      " 77%|#######6  | 411/536 [00:04<00:01, 77.20it/s]\n",
      " 78%|#######8  | 420/536 [00:04<00:01, 75.79it/s]\n",
      " 80%|########  | 431/536 [00:04<00:01, 80.46it/s]\n",
      " 82%|########2 | 440/536 [00:04<00:01, 77.66it/s]\n",
      " 84%|########4 | 452/536 [00:05<00:00, 86.63it/s]\n",
      " 86%|########6 | 461/536 [00:05<00:00, 85.95it/s]\n",
      " 90%|########9 | 481/536 [00:05<00:00, 115.79it/s]\n",
      " 92%|#########2| 494/536 [00:05<00:00, 108.39it/s]\n",
      " 95%|#########5| 511/536 [00:05<00:00, 123.56it/s]\n",
      " 98%|#########8| 526/536 [00:05<00:00, 130.01it/s]\n",
      "100%|##########| 536/536 [00:05<00:00, 93.36it/s] \n",
      "\n",
      "  0%|          | 0/536 [00:00<?, ?it/s]\n",
      "  3%|3         | 18/536 [00:00<00:03, 168.23it/s]\n",
      "  7%|6         | 37/536 [00:00<00:03, 166.22it/s]\n",
      " 11%|#         | 57/536 [00:00<00:02, 168.07it/s]\n",
      " 15%|#4        | 80/536 [00:00<00:02, 180.09it/s]\n",
      " 18%|#8        | 98/536 [00:00<00:02, 167.91it/s]\n",
      " 22%|##1       | 117/536 [00:00<00:02, 171.51it/s]\n",
      " 25%|##5       | 135/536 [00:00<00:02, 168.99it/s]\n",
      " 28%|##8       | 152/536 [00:00<00:02, 133.69it/s]\n",
      " 31%|###1      | 167/536 [00:01<00:02, 129.68it/s]\n",
      " 34%|###3      | 181/536 [00:01<00:03, 110.92it/s]\n",
      " 37%|###7      | 200/536 [00:01<00:02, 125.70it/s]\n",
      " 41%|####      | 219/536 [00:01<00:02, 140.30it/s]\n",
      " 46%|####6     | 249/536 [00:01<00:01, 175.40it/s]\n",
      " 52%|#####2    | 281/536 [00:01<00:01, 205.18it/s]\n",
      " 57%|#####6    | 305/536 [00:01<00:01, 210.49it/s]\n",
      " 61%|######1   | 327/536 [00:02<00:01, 160.51it/s]\n",
      " 65%|######5   | 349/536 [00:02<00:01, 164.29it/s]\n",
      " 68%|######8   | 367/536 [00:02<00:01, 149.10it/s]\n",
      " 72%|#######1  | 385/536 [00:02<00:01, 141.61it/s]\n",
      " 76%|#######6  | 409/536 [00:02<00:00, 159.35it/s]\n",
      " 84%|########4 | 451/536 [00:02<00:00, 218.88it/s]\n",
      " 89%|########8 | 476/536 [00:02<00:00, 221.70it/s]\n",
      " 93%|#########3| 500/536 [00:03<00:00, 164.60it/s]\n",
      " 97%|#########7| 520/536 [00:03<00:00, 149.50it/s]\n",
      "100%|##########| 536/536 [00:03<00:00, 163.29it/s]\n",
      "C:\\Users\\jaspz\\Documents\\GitHub\\ict3104-team10-2022\\pipline\\models.py:88: UserWarning: nn.init.kaiming_normal is now deprecated in favor of nn.init.kaiming_normal_.\n",
      "  init.kaiming_normal(self.key_conv.weight, mode='fan_out')\n",
      "C:\\Users\\jaspz\\Documents\\GitHub\\ict3104-team10-2022\\pipline\\models.py:89: UserWarning: nn.init.kaiming_normal is now deprecated in favor of nn.init.kaiming_normal_.\n",
      "  init.kaiming_normal(self.value_conv.weight, mode='fan_out')\n",
      "C:\\Users\\jaspz\\Documents\\GitHub\\ict3104-team10-2022\\pipline\\models.py:90: UserWarning: nn.init.kaiming_normal is now deprecated in favor of nn.init.kaiming_normal_.\n",
      "  init.kaiming_normal(self.query_conv.weight, mode='fan_out')\n",
      "C:\\Users\\jaspz\\Documents\\GitHub\\ict3104-team10-2022\\pipline\\models.py:91: UserWarning: nn.init.normal is now deprecated in favor of nn.init.normal_.\n",
      "  init.normal(self.rel_t, 0, 1)\n",
      "C:\\Users\\jaspz\\anaconda3\\envs\\04Env\\lib\\site-packages\\torch\\nn\\_reduction.py:42: UserWarning: size_average and reduce args will be deprecated, please use reduction='none' instead.\n",
      "  warnings.warn(warning.format(ret))\n",
      "C:\\Users\\jaspz\\anaconda3\\envs\\04Env\\lib\\site-packages\\torch\\nn\\functional.py:1805: UserWarning: nn.functional.sigmoid is deprecated. Use torch.sigmoid instead.\n",
      "  warnings.warn(\"nn.functional.sigmoid is deprecated. Use torch.sigmoid instead.\")\n",
      "C:\\Users\\jaspz\\anaconda3\\envs\\04Env\\lib\\site-packages\\torch\\nn\\_reduction.py:42: UserWarning: size_average and reduce args will be deprecated, please use reduction='sum' instead.\n",
      "  warnings.warn(warning.format(ret))\n",
      "C:\\Users\\jaspz\\Documents\\GitHub\\ict3104-team10-2022\\pipline\\apmeter.py:108: UserWarning: torch.range is deprecated and will be removed in a future release because its behavior is inconsistent with Python's range builtin. Instead, use torch.arange, which produces values in [start, end).\n",
      "  rg = torch.range(1, self.scores.size(0)).float()\n",
      "C:\\Users\\jaspz\\Documents\\GitHub\\ict3104-team10-2022\\pipline\\apmeter.py:137: UserWarning: indexing with dtype torch.uint8 is now deprecated, please use a dtype torch.bool instead. (Triggered internally at  ..\\aten\\src\\ATen/native/IndexingUtils.h:30.)\n",
      "  ap[k] = precision[truth.byte()].sum() / max(truth.sum(), 1)\n"
     ]
    }
   ],
   "source": [
    "!python ./pipline/train.py -dataset TSU -mode rgb -split_setting CS -model PDAN -train True -num_channel 512 -lr 0.0002 -kernelsize 2 -APtype map -epoch 1 -batch_size 1 -comp_info TSU_CS_RGB_PDAN -load_model ./pipline/dataset/PDAN_TSU_RGB"
   ]
  },
  {
   "cell_type": "markdown",
   "metadata": {},
   "source": [
    "# Installations & Util"
   ]
  },
  {
   "cell_type": "code",
   "execution_count": 1,
   "metadata": {
    "init_cell": true,
    "scrolled": true
   },
   "outputs": [
    {
     "name": "stdout",
     "output_type": "stream",
     "text": [
      "Requirement already satisfied: ipyfilechooser in c:\\users\\jaspz\\anaconda3\\envs\\04env\\lib\\site-packages (0.6.0)\n",
      "Requirement already satisfied: ipywidgets in c:\\users\\jaspz\\anaconda3\\envs\\04env\\lib\\site-packages (8.0.2)\n",
      "Requirement already satisfied: pandas in c:\\users\\jaspz\\anaconda3\\envs\\04env\\lib\\site-packages (1.5.0)\n",
      "Requirement already satisfied: moviepy in c:\\users\\jaspz\\anaconda3\\envs\\04env\\lib\\site-packages (1.0.3)\n",
      "Requirement already satisfied: ipython>=6.1.0 in c:\\users\\jaspz\\anaconda3\\envs\\04env\\lib\\site-packages (from ipywidgets) (8.5.0)\n",
      "Requirement already satisfied: widgetsnbextension~=4.0 in c:\\users\\jaspz\\anaconda3\\envs\\04env\\lib\\site-packages (from ipywidgets) (4.0.3)\n",
      "Requirement already satisfied: ipykernel>=4.5.1 in c:\\users\\jaspz\\anaconda3\\envs\\04env\\lib\\site-packages (from ipywidgets) (6.16.0)\n",
      "Requirement already satisfied: traitlets>=4.3.1 in c:\\users\\jaspz\\anaconda3\\envs\\04env\\lib\\site-packages (from ipywidgets) (5.4.0)\n",
      "Requirement already satisfied: jupyterlab-widgets~=3.0 in c:\\users\\jaspz\\anaconda3\\envs\\04env\\lib\\site-packages (from ipywidgets) (3.0.3)\n",
      "Requirement already satisfied: pytz>=2020.1 in c:\\users\\jaspz\\anaconda3\\envs\\04env\\lib\\site-packages (from pandas) (2022.2.1)\n",
      "Requirement already satisfied: numpy>=1.20.3 in c:\\users\\jaspz\\anaconda3\\envs\\04env\\lib\\site-packages (from pandas) (1.23.1)\n",
      "Requirement already satisfied: python-dateutil>=2.8.1 in c:\\users\\jaspz\\anaconda3\\envs\\04env\\lib\\site-packages (from pandas) (2.8.2)\n",
      "Requirement already satisfied: requests<3.0,>=2.8.1 in c:\\users\\jaspz\\anaconda3\\envs\\04env\\lib\\site-packages (from moviepy) (2.28.1)\n",
      "Requirement already satisfied: tqdm<5.0,>=4.11.2 in c:\\users\\jaspz\\anaconda3\\envs\\04env\\lib\\site-packages (from moviepy) (4.64.1)\n",
      "Requirement already satisfied: decorator<5.0,>=4.0.2 in c:\\users\\jaspz\\anaconda3\\envs\\04env\\lib\\site-packages (from moviepy) (4.4.2)\n",
      "Requirement already satisfied: imageio-ffmpeg>=0.2.0 in c:\\users\\jaspz\\anaconda3\\envs\\04env\\lib\\site-packages (from moviepy) (0.4.7)\n",
      "Requirement already satisfied: imageio<3.0,>=2.5 in c:\\users\\jaspz\\anaconda3\\envs\\04env\\lib\\site-packages (from moviepy) (2.22.0)\n",
      "Requirement already satisfied: proglog<=1.0.0 in c:\\users\\jaspz\\anaconda3\\envs\\04env\\lib\\site-packages (from moviepy) (0.1.10)\n",
      "Requirement already satisfied: pillow>=8.3.2 in c:\\users\\jaspz\\anaconda3\\envs\\04env\\lib\\site-packages (from imageio<3.0,>=2.5->moviepy) (9.2.0)\n",
      "Requirement already satisfied: jupyter-client>=6.1.12 in c:\\users\\jaspz\\anaconda3\\envs\\04env\\lib\\site-packages (from ipykernel>=4.5.1->ipywidgets) (7.3.5)\n",
      "Requirement already satisfied: debugpy>=1.0 in c:\\users\\jaspz\\anaconda3\\envs\\04env\\lib\\site-packages (from ipykernel>=4.5.1->ipywidgets) (1.6.3)\n",
      "Requirement already satisfied: pyzmq>=17 in c:\\users\\jaspz\\anaconda3\\envs\\04env\\lib\\site-packages (from ipykernel>=4.5.1->ipywidgets) (24.0.1)\n",
      "Requirement already satisfied: tornado>=6.1 in c:\\users\\jaspz\\anaconda3\\envs\\04env\\lib\\site-packages (from ipykernel>=4.5.1->ipywidgets) (6.2)\n",
      "Requirement already satisfied: matplotlib-inline>=0.1 in c:\\users\\jaspz\\anaconda3\\envs\\04env\\lib\\site-packages (from ipykernel>=4.5.1->ipywidgets) (0.1.6)\n",
      "Requirement already satisfied: packaging in c:\\users\\jaspz\\anaconda3\\envs\\04env\\lib\\site-packages (from ipykernel>=4.5.1->ipywidgets) (21.3)\n",
      "Requirement already satisfied: psutil in c:\\users\\jaspz\\anaconda3\\envs\\04env\\lib\\site-packages (from ipykernel>=4.5.1->ipywidgets) (5.9.2)\n",
      "Requirement already satisfied: nest-asyncio in c:\\users\\jaspz\\anaconda3\\envs\\04env\\lib\\site-packages (from ipykernel>=4.5.1->ipywidgets) (1.5.5)\n",
      "Requirement already satisfied: pickleshare in c:\\users\\jaspz\\anaconda3\\envs\\04env\\lib\\site-packages (from ipython>=6.1.0->ipywidgets) (0.7.5)\n",
      "Requirement already satisfied: jedi>=0.16 in c:\\users\\jaspz\\anaconda3\\envs\\04env\\lib\\site-packages (from ipython>=6.1.0->ipywidgets) (0.18.1)\n",
      "Requirement already satisfied: prompt-toolkit<3.1.0,>3.0.1 in c:\\users\\jaspz\\anaconda3\\envs\\04env\\lib\\site-packages (from ipython>=6.1.0->ipywidgets) (3.0.31)\n",
      "Requirement already satisfied: colorama in c:\\users\\jaspz\\anaconda3\\envs\\04env\\lib\\site-packages (from ipython>=6.1.0->ipywidgets) (0.4.5)\n",
      "Requirement already satisfied: backcall in c:\\users\\jaspz\\anaconda3\\envs\\04env\\lib\\site-packages (from ipython>=6.1.0->ipywidgets) (0.2.0)\n",
      "Requirement already satisfied: pygments>=2.4.0 in c:\\users\\jaspz\\anaconda3\\envs\\04env\\lib\\site-packages (from ipython>=6.1.0->ipywidgets) (2.13.0)\n",
      "Requirement already satisfied: stack-data in c:\\users\\jaspz\\anaconda3\\envs\\04env\\lib\\site-packages (from ipython>=6.1.0->ipywidgets) (0.5.1)\n",
      "Requirement already satisfied: six>=1.5 in c:\\users\\jaspz\\anaconda3\\envs\\04env\\lib\\site-packages (from python-dateutil>=2.8.1->pandas) (1.16.0)\n",
      "Requirement already satisfied: certifi>=2017.4.17 in c:\\users\\jaspz\\anaconda3\\envs\\04env\\lib\\site-packages (from requests<3.0,>=2.8.1->moviepy) (2022.9.14)\n",
      "Requirement already satisfied: urllib3<1.27,>=1.21.1 in c:\\users\\jaspz\\anaconda3\\envs\\04env\\lib\\site-packages (from requests<3.0,>=2.8.1->moviepy) (1.26.12)\n",
      "Requirement already satisfied: idna<4,>=2.5 in c:\\users\\jaspz\\anaconda3\\envs\\04env\\lib\\site-packages (from requests<3.0,>=2.8.1->moviepy) (3.4)\n",
      "Requirement already satisfied: charset-normalizer<3,>=2 in c:\\users\\jaspz\\anaconda3\\envs\\04env\\lib\\site-packages (from requests<3.0,>=2.8.1->moviepy) (2.1.1)\n",
      "Requirement already satisfied: parso<0.9.0,>=0.8.0 in c:\\users\\jaspz\\anaconda3\\envs\\04env\\lib\\site-packages (from jedi>=0.16->ipython>=6.1.0->ipywidgets) (0.8.3)\n",
      "Requirement already satisfied: jupyter-core>=4.9.2 in c:\\users\\jaspz\\anaconda3\\envs\\04env\\lib\\site-packages (from jupyter-client>=6.1.12->ipykernel>=4.5.1->ipywidgets) (4.11.1)\n",
      "Requirement already satisfied: entrypoints in c:\\users\\jaspz\\anaconda3\\envs\\04env\\lib\\site-packages (from jupyter-client>=6.1.12->ipykernel>=4.5.1->ipywidgets) (0.4)\n",
      "Requirement already satisfied: wcwidth in c:\\users\\jaspz\\anaconda3\\envs\\04env\\lib\\site-packages (from prompt-toolkit<3.1.0,>3.0.1->ipython>=6.1.0->ipywidgets) (0.2.5)\n",
      "Requirement already satisfied: pyparsing!=3.0.5,>=2.0.2 in c:\\users\\jaspz\\anaconda3\\envs\\04env\\lib\\site-packages (from packaging->ipykernel>=4.5.1->ipywidgets) (3.0.9)\n",
      "Requirement already satisfied: pure-eval in c:\\users\\jaspz\\anaconda3\\envs\\04env\\lib\\site-packages (from stack-data->ipython>=6.1.0->ipywidgets) (0.2.2)\n",
      "Requirement already satisfied: executing in c:\\users\\jaspz\\anaconda3\\envs\\04env\\lib\\site-packages (from stack-data->ipython>=6.1.0->ipywidgets) (1.1.0)\n",
      "Requirement already satisfied: asttokens in c:\\users\\jaspz\\anaconda3\\envs\\04env\\lib\\site-packages (from stack-data->ipython>=6.1.0->ipywidgets) (2.0.8)\n",
      "Requirement already satisfied: pywin32>=1.0 in c:\\users\\jaspz\\anaconda3\\envs\\04env\\lib\\site-packages (from jupyter-core>=4.9.2->jupyter-client>=6.1.12->ipykernel>=4.5.1->ipywidgets) (304)\n"
     ]
    }
   ],
   "source": [
    "! pip install ipyfilechooser ipywidgets pandas moviepy"
   ]
  },
  {
   "cell_type": "markdown",
   "metadata": {},
   "source": [
    "## Code Hiding"
   ]
  },
  {
   "cell_type": "code",
   "execution_count": 2,
   "metadata": {
    "init_cell": true,
    "scrolled": false
   },
   "outputs": [
    {
     "data": {
      "text/html": [
       "<script>$(\"div.input\").hide()</script>"
      ],
      "text/plain": [
       "<IPython.core.display.HTML object>"
      ]
     },
     "metadata": {},
     "output_type": "display_data"
    },
    {
     "data": {
      "application/vnd.jupyter.widget-view+json": {
       "model_id": "20c3c2c7c1ec42228105331c0834e1bb",
       "version_major": 2,
       "version_minor": 0
      },
      "text/plain": [
       "ToggleButton(value=False, description='Show code')"
      ]
     },
     "metadata": {},
     "output_type": "display_data"
    },
    {
     "data": {
      "text/html": [
       "<script>$(\"div.input\").show()</script>"
      ],
      "text/plain": [
       "<IPython.core.display.HTML object>"
      ]
     },
     "metadata": {},
     "output_type": "display_data"
    }
   ],
   "source": [
    "import ipywidgets as widgets\n",
    "from IPython.display import display, HTML\n",
    "# ========== TOGGLE BTN ==========\n",
    "javascript_functions = {False: \"hide()\", True: \"show()\"}\n",
    "button_descriptions  = {False: \"Show code\", True: \"Hide code\"}\n",
    "\n",
    "def toggle_code(state):\n",
    "    \"\"\"\n",
    "    Toggles the JavaScript show()/hide() function on the div.input element.\n",
    "    \"\"\"\n",
    "    output_string = \"<script>$(\\\"div.input\\\").{}</script>\"\n",
    "    output_args   = (javascript_functions[state],)\n",
    "    output        = output_string.format(*output_args)\n",
    "    display(HTML(output))\n",
    "\n",
    "def button_action(value):\n",
    "    \"\"\"\n",
    "    Calls the toggle_code function and updates the button description.\n",
    "    \"\"\"\n",
    "    state = value.new\n",
    "    toggle_code(state)\n",
    "    value.owner.description = button_descriptions[state]\n",
    "    \n",
    "state = False\n",
    "toggle_code(state)\n",
    "\n",
    "button = widgets.ToggleButton(state, description = button_descriptions[state])\n",
    "button.observe(button_action, \"value\")\n",
    "# ========== END TOGGLE BTN END ==========\n",
    "display(button)"
   ]
  },
  {
   "cell_type": "markdown",
   "metadata": {
    "heading_collapsed": true
   },
   "source": [
    "# Data Exploration"
   ]
  },
  {
   "cell_type": "markdown",
   "metadata": {
    "hidden": true
   },
   "source": [
    "## File Upload"
   ]
  },
  {
   "cell_type": "code",
   "execution_count": 3,
   "metadata": {
    "hidden": true,
    "init_cell": true,
    "scrolled": true
   },
   "outputs": [
    {
     "data": {
      "application/vnd.jupyter.widget-view+json": {
       "model_id": "62ff768058ab4874a77aa78d17fc455f",
       "version_major": 2,
       "version_minor": 0
      },
      "text/plain": [
       "FileChooser(path='C:\\Users', filename='', title='<b>Select File (*zip)</b>', show_hidden=False, select_desc='S…"
      ]
     },
     "metadata": {},
     "output_type": "display_data"
    },
    {
     "data": {
      "application/vnd.jupyter.widget-view+json": {
       "model_id": "e7b2501ced454f589d2ad418a3b2385a",
       "version_major": 2,
       "version_minor": 0
      },
      "text/plain": [
       "Button(button_style='info', description='Confirm Upload', style=ButtonStyle(), tooltip='Confirm')"
      ]
     },
     "metadata": {},
     "output_type": "display_data"
    },
    {
     "data": {
      "application/vnd.jupyter.widget-view+json": {
       "model_id": "9476e502f4174729b866fe89ce439086",
       "version_major": 2,
       "version_minor": 0
      },
      "text/plain": [
       "Output()"
      ]
     },
     "metadata": {},
     "output_type": "display_data"
    }
   ],
   "source": [
    "import ipywidgets as widgets\n",
    "from IPython.display import display, HTML\n",
    "from ipyfilechooser import FileChooser\n",
    "import zipfile as zf\n",
    "from ipywidgets import Button\n",
    "\n",
    "# ========== FileChooser ==========\n",
    "# Create and display a FileChooser widget\n",
    "fc = FileChooser('/Users')\n",
    "\n",
    "# Change defaults and reset the dialog\n",
    "# fc.default_path = './'\n",
    "# fc.reset()\n",
    "\n",
    "# Restrict navigation to /Users\n",
    "fc.sandbox_path = '/Users'\n",
    "\n",
    "# Change hidden files\n",
    "fc.show_hidden = False\n",
    "\n",
    "# Switch to folder-only mode\n",
    "fc.show_only_dirs = False\n",
    "\n",
    "# Set multiple file filter patterns (uses https://docs.python.org/3/library/fnmatch.html)\n",
    "# fc.filter_pattern = ['*.jpg', '*.png','*.txt']\n",
    "# fc.filter_pattern = ['*.zip']\n",
    "fc.filter_pattern = ['*.png']\n",
    "\n",
    "# Change the title (use '' to hide)\n",
    "fc.title = '<b>Select File (*zip)</b>'\n",
    "\n",
    "# Sample callback function\n",
    "def change_display_selected(chooser):\n",
    "    print(fc.selected_filename, end='\\r')\n",
    "\n",
    "# Register callback function\n",
    "fc.register_callback(change_display_selected)\n",
    "\n",
    "def on_button_clicked(b):\n",
    "    # FILE UPLOAD\n",
    "    print(fc.selected)\n",
    "    fn = fc.selected_filename.replace('.zip', '')\n",
    "    files = zf.ZipFile(fc.selected_path+\"\\\\\"+fc.selected_filename, 'r')\n",
    "    files.extractall('Data Folder\\\\'+fn)\n",
    "    files.close()\n",
    "    with output:\n",
    "        print(\"Files saved.\")\n",
    "# ========== END FileChooser END ==========\n",
    "# ========== CONFIRM BTN ==========\n",
    "confirmBtn = widgets.Button(\n",
    "    description='Confirm Upload',\n",
    "    button_style='info', # 'success', 'info', 'warning', 'danger' or ''\n",
    "    tooltip='Confirm',\n",
    ")\n",
    "output = widgets.Output()\n",
    "confirmBtn.on_click(on_button_clicked)\n",
    "# ========== CONFIRM BTN ==========\n",
    "display(fc)\n",
    "display(confirmBtn, output)"
   ]
  },
  {
   "cell_type": "markdown",
   "metadata": {
    "heading_collapsed": true
   },
   "source": [
    "# Inference"
   ]
  },
  {
   "cell_type": "code",
   "execution_count": null,
   "metadata": {
    "hidden": true,
    "scrolled": false
   },
   "outputs": [],
   "source": [
    "import cv2\n",
    "import pandas as pd\n",
    "from moviepy.editor import VideoFileClip\n",
    "\n",
    "def output(frame):\n",
    "    try:\n",
    "        cv2.putText(frame, str(next(df)[1].sentence), position, cv2.FONT_HERSHEY_SIMPLEX, 1, (255, 255, 255), 3, cv2.LINE_AA)\n",
    "    except StopIteration:\n",
    "        pass\n",
    "    # additional frame manipulation\n",
    "    return frame\n",
    "\n",
    "\n",
    "# Path to video\n",
    "video_path = \"video.mp4\"\n",
    "\n",
    "# Capture video\n",
    "cap = cv2.VideoCapture(video_path)\n",
    "\n",
    "# Get video height and width from captured video\n",
    "frame_width = int(cap.get(3))\n",
    "frame_height = int(cap.get(4))\n",
    "\n",
    "# Set position for text with offset of text size\n",
    "position = ((int((frame_width/2)-(268/2))), int(((frame_height/2)-(36/2))))\n",
    "\n",
    "video = VideoFileClip(video_path)\n",
    "\n",
    "# Path to caption\n",
    "caption = \"caption.csv\"\n",
    "\n",
    "df = pd.read_csv(caption).iterrows()\n",
    "\n",
    "# Modifies the images of a clip by replacing the frame\n",
    "out_video = video.fl_image(output)\n",
    "\n",
    "# Write edited video to file\n",
    "out_video.write_videofile(\"output.mp4\", audio = True)\n",
    "\n",
    "# Close video file clip\n",
    "out_video.close()"
   ]
  },
  {
   "cell_type": "markdown",
   "metadata": {
    "heading_collapsed": true
   },
   "source": [
    "# Training"
   ]
  },
  {
   "cell_type": "markdown",
   "metadata": {
    "hidden": true
   },
   "source": [
    "## Select File for Training"
   ]
  },
  {
   "cell_type": "code",
   "execution_count": null,
   "metadata": {
    "hidden": true,
    "scrolled": true
   },
   "outputs": [],
   "source": [
    "from IPython import display\n",
    "from ipyfilechooser import FileChooser\n",
    "from IPython.display import display\n",
    "from IPython.display import IFrame\n",
    "import ipywidgets as widgets\n",
    "from IPython.display import Video\n",
    "\n",
    "output2 = widgets.Output()\n",
    "# ========== FileChooser ==========\n",
    "# Create and display a FileChooser widget\n",
    "fc2 = FileChooser('./Data Folder')\n",
    "display(fc2)\n",
    "\n",
    "# Restrict navigation to /Users\n",
    "fc2.sandbox_path = './Data Folder'\n",
    "\n",
    "# Change hidden files\n",
    "fc2.show_hidden = False\n",
    "\n",
    "# Switch to folder-only mode\n",
    "fc2.show_only_dirs = False\n",
    "\n",
    "# Change the title (use '' to hide)\n",
    "fc2.title = '<b>Select File for Training</b>'\n",
    "\n",
    "# Sample callback function\n",
    "def change_display_selected(chooser):\n",
    "    with output2:\n",
    "#         print(fc2.selected_filename, end='\\r')\n",
    "        print(fc2.selected_path+\"\\\\\"+fc2.selected_filename, end='\\r')\n",
    "#     runVid(fc2.selected_path+\"\\\\\"+fc2.selected_filename)\n",
    "#         Video(fc2.selected_path+\"\\\\\"+fc2.selected_filename)\n",
    "    \n",
    "# Register callback function\n",
    "fc2.register_callback(change_display_selected)\n",
    "# ========== END FileChooser END ==========\n",
    "display(output2)"
   ]
  },
  {
   "cell_type": "markdown",
   "metadata": {},
   "source": [
    "# Testing"
   ]
  },
  {
   "cell_type": "markdown",
   "metadata": {},
   "source": [
    "Insert testing components"
   ]
  }
 ],
 "metadata": {
  "celltoolbar": "Initialization Cell",
  "colab": {
   "authorship_tag": "ABX9TyN+EoD2onQTKrdDorGCO8Sd",
   "provenance": []
  },
  "kernelspec": {
   "display_name": "Python 3 (ipykernel)",
   "language": "python",
   "name": "python3"
  },
  "language_info": {
   "codemirror_mode": {
    "name": "ipython",
    "version": 3
   },
   "file_extension": ".py",
   "mimetype": "text/x-python",
   "name": "python",
   "nbconvert_exporter": "python",
   "pygments_lexer": "ipython3",
   "version": "3.10.7"
  },
  "toc": {
   "base_numbering": 1,
   "nav_menu": {},
   "number_sections": true,
   "sideBar": true,
   "skip_h1_title": false,
   "title_cell": "Table of Contents",
   "title_sidebar": "Contents",
   "toc_cell": false,
   "toc_position": {},
   "toc_section_display": true,
   "toc_window_display": false
  },
  "varInspector": {
   "cols": {
    "lenName": 16,
    "lenType": 16,
    "lenVar": 40
   },
   "kernels_config": {
    "python": {
     "delete_cmd_postfix": "",
     "delete_cmd_prefix": "del ",
     "library": "var_list.py",
     "varRefreshCmd": "print(var_dic_list())"
    },
    "r": {
     "delete_cmd_postfix": ") ",
     "delete_cmd_prefix": "rm(",
     "library": "var_list.r",
     "varRefreshCmd": "cat(var_dic_list()) "
    }
   },
   "types_to_exclude": [
    "module",
    "function",
    "builtin_function_or_method",
    "instance",
    "_Feature"
   ],
   "window_display": false
  }
 },
 "nbformat": 4,
 "nbformat_minor": 1
}
