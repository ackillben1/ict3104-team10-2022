{
 "cells": [
  {
   "cell_type": "markdown",
   "metadata": {
    "heading_collapsed": true
   },
   "source": [
    "# Installations & Util"
   ]
  },
  {
   "cell_type": "code",
   "execution_count": null,
   "metadata": {
    "hidden": true,
    "init_cell": true,
    "scrolled": true
   },
   "outputs": [],
   "source": [
    "! pip install ipyfilechooser ipywidgets pandas moviepy"
   ]
  },
  {
   "cell_type": "markdown",
   "metadata": {
    "hidden": true
   },
   "source": [
    "## Code Hiding"
   ]
  },
  {
   "cell_type": "code",
   "execution_count": null,
   "metadata": {
    "hidden": true,
    "init_cell": true,
    "scrolled": true
   },
   "outputs": [],
   "source": [
    "import ipywidgets as widgets\n",
    "from IPython.display import display, HTML\n",
    "# ========== TOGGLE BTN ==========\n",
    "javascript_functions = {False: \"hide()\", True: \"show()\"}\n",
    "button_descriptions  = {False: \"Show code\", True: \"Hide code\"}\n",
    "\n",
    "def toggle_code(state):\n",
    "    \"\"\"\n",
    "    Toggles the JavaScript show()/hide() function on the div.input element.\n",
    "    \"\"\"\n",
    "    output_string = \"<script>$(\\\"div.input\\\").{}</script>\"\n",
    "    output_args   = (javascript_functions[state],)\n",
    "    output        = output_string.format(*output_args)\n",
    "    display(HTML(output))\n",
    "\n",
    "def button_action(value):\n",
    "    \"\"\"\n",
    "    Calls the toggle_code function and updates the button description.\n",
    "    \"\"\"\n",
    "    state = value.new\n",
    "    toggle_code(state)\n",
    "    value.owner.description = button_descriptions[state]\n",
    "    \n",
    "state = False\n",
    "toggle_code(state)\n",
    "\n",
    "button = widgets.ToggleButton(state, description = button_descriptions[state])\n",
    "button.observe(button_action, \"value\")\n",
    "# ========== END TOGGLE BTN END ==========\n",
    "display(button)"
   ]
  },
  {
   "cell_type": "markdown",
   "metadata": {
    "heading_collapsed": true
   },
   "source": [
    "# Data Exploration"
   ]
  },
  {
   "cell_type": "markdown",
   "metadata": {
    "heading_collapsed": true,
    "hidden": true
   },
   "source": [
    "## File Upload"
   ]
  },
  {
   "cell_type": "code",
   "execution_count": null,
   "metadata": {
    "hidden": true,
    "init_cell": true,
    "scrolled": true
   },
   "outputs": [],
   "source": [
    "import ipywidgets as widgets\n",
    "from ipywidgets import Button\n",
    "from IPython.display import display, HTML\n",
    "from ipyfilechooser import FileChooser\n",
    "import zipfile as zf\n",
    "import shutil\n",
    "\n",
    "# ========== FileChooser ==========\n",
    "# Create and display a FileChooser widget\n",
    "fc = FileChooser('/Users')\n",
    "\n",
    "# Change defaults and reset the dialog\n",
    "# fc.default_path = './'\n",
    "# fc.reset()\n",
    "\n",
    "# Restrict navigation to /Users\n",
    "fc.sandbox_path = '/Users'\n",
    "\n",
    "# Change hidden files\n",
    "fc.show_hidden = False\n",
    "\n",
    "# Switch to folder-only mode\n",
    "fc.show_only_dirs = False\n",
    "\n",
    "# Set multiple file filter patterns (uses https://docs.python.org/3/library/fnmatch.html)\n",
    "fc.filter_pattern = ['*.jpg', '*.png','*.txt', '*.mp4', '*.zip']\n",
    "# fc.filter_pattern = ['*.zip']\n",
    "\n",
    "# Change the title (use '' to hide)\n",
    "fc.title = '<b>Select File (*zip)</b>'\n",
    "\n",
    "# Sample callback function\n",
    "# def change_display_selected(chooser):\n",
    "#     print(fc.selected_filename, end='\\r')\n",
    "\n",
    "# Register callback function\n",
    "# fc.register_callback(change_display_selected)\n",
    "\n",
    "def on_button_clicked(b):\n",
    "    # FILE UPLOAD\n",
    "#     print(fc.selected)\n",
    "    fn = fc.selected_filename\n",
    "\n",
    "    if fn.endswith('.zip'):\n",
    "        fn = fc.selected_filename.replace('.zip', '')\n",
    "        files = zf.ZipFile(fc.selected_path+\"\\\\\"+fc.selected_filename, 'r')\n",
    "        files.extractall('Data Folder\\\\'+fn)\n",
    "        files.close()\n",
    "    else:\n",
    "        shutil.copyfile(fc.selected_path+\"\\\\\"+fc.selected_filename, 'Data Folder\\\\'+fc.selected_filename)\n",
    "    with output:\n",
    "        print(fn + \" >> is uploaded to Data Folder.\")\n",
    "# ========== END FileChooser END ==========\n",
    "# ========== CONFIRM BTN ==========\n",
    "confirmBtn = widgets.Button(\n",
    "    description='Confirm Upload',\n",
    "    button_style='info', # 'success', 'info', 'warning', 'danger' or ''\n",
    "    tooltip='Confirm',\n",
    ")\n",
    "output = widgets.Output()\n",
    "confirmBtn.on_click(on_button_clicked)\n",
    "# ========== CONFIRM BTN ==========\n",
    "display(fc)\n",
    "display(confirmBtn, output)\n"
   ]
  },
  {
   "cell_type": "markdown",
   "metadata": {
    "heading_collapsed": true,
    "hidden": true
   },
   "source": [
    "### Testing Multi-Upload"
   ]
  },
  {
   "cell_type": "code",
   "execution_count": null,
   "metadata": {
    "hidden": true,
    "scrolled": true
   },
   "outputs": [],
   "source": [
    "from IPython.display import display, HTML\n",
    "import shutil\n",
    "\n",
    "display(HTML(\"\"\"\n",
    "    <!-- The `multiple` attribute lets users select multiple files. -->\n",
    "    <input type=\"file\" id=\"file-selector\" multiple>\n",
    "    <script>\n",
    "      const fileSelector = document.getElementById('file-selector');\n",
    "      fileSelector.addEventListener('change', (event) => {\n",
    "        const fileList = event.target.files;\n",
    "        console.log(fileList);\n",
    "      });\n",
    "        fileList.extractall('Data Folder\\\\'+fileList)\n",
    "        shutil.copyfile(fileList, 'Data Folder\\\\new')\n",
    "    </script>\n",
    "\"\"\"))"
   ]
  },
  {
   "cell_type": "code",
   "execution_count": null,
   "metadata": {
    "hidden": true,
    "scrolled": true
   },
   "outputs": [],
   "source": [
    "import ipywidgets as widgets\n",
    "\n",
    "uploader20 = widgets.FileUpload(\n",
    "    accept='',  # Accepted file extension e.g. '.txt', '.pdf', 'image/*', 'image/*,.pdf'\n",
    "    multiple=False  # True to accept multiple files upload else False\n",
    ")\n",
    "\n",
    "def on_button_clicked20(b):\n",
    "    fileName = uploader20.value[0].name\n",
    "    print(uploader20.value[0].name)\n",
    "#     widgets.Image(value=uploader20.value[0].content.tobytes())\n",
    "#     shutil.copyfile(fc.selected_path+\"\\\\\"+fc.selected_filename, 'Data Folder\\\\'+fc.selected_filename)\n",
    "#         with output:\n",
    "#             print(fn + \" saved to Data Folder.\")\n",
    "# =================================================\n",
    "confirmBtn20 = widgets.Button(\n",
    "    description='Confirm Upload',\n",
    "    button_style='info', # 'success', 'info', 'warning', 'danger' or ''\n",
    "    tooltip='Confirm',\n",
    ")\n",
    "display(uploader20)\n",
    "confirmBtn20.on_click(on_button_clicked20)\n",
    "display(confirmBtn20)"
   ]
  },
  {
   "cell_type": "markdown",
   "metadata": {
    "heading_collapsed": true
   },
   "source": [
    "# Inference"
   ]
  },
  {
   "cell_type": "code",
   "execution_count": null,
   "metadata": {
    "hidden": true,
    "scrolled": false
   },
   "outputs": [],
   "source": [
    "import cv2\n",
    "import pandas as pd\n",
    "from moviepy.editor import VideoFileClip\n",
    "\n",
    "def output(frame):\n",
    "    try:\n",
    "        cv2.putText(frame, str(next(df)[1].sentence), position, cv2.FONT_HERSHEY_SIMPLEX, 1, (255, 255, 255), 3, cv2.LINE_AA)\n",
    "    except StopIteration:\n",
    "        pass\n",
    "    # additional frame manipulation\n",
    "    return frame\n",
    "\n",
    "\n",
    "# Path to video\n",
    "video_path = \"video.mp4\"\n",
    "\n",
    "# Capture video\n",
    "cap = cv2.VideoCapture(video_path)\n",
    "\n",
    "# Get video height and width from captured video\n",
    "frame_width = int(cap.get(3))\n",
    "frame_height = int(cap.get(4))\n",
    "\n",
    "# Set position for text with offset of text size\n",
    "position = ((int((frame_width/2)-(268/2))), int(((frame_height/2)-(36/2))))\n",
    "\n",
    "video = VideoFileClip(video_path)\n",
    "\n",
    "# Path to caption\n",
    "caption = \"caption.csv\"\n",
    "\n",
    "df = pd.read_csv(caption).iterrows()\n",
    "\n",
    "# Modifies the images of a clip by replacing the frame\n",
    "out_video = video.fl_image(output)\n",
    "\n",
    "# Write edited video to file\n",
    "out_video.write_videofile(\"output.mp4\", audio = True)\n",
    "\n",
    "# Close video file clip\n",
    "out_video.close()"
   ]
  },
  {
   "cell_type": "markdown",
   "metadata": {
    "heading_collapsed": true
   },
   "source": [
    "# Training"
   ]
  },
  {
   "cell_type": "markdown",
   "metadata": {
    "heading_collapsed": true,
    "hidden": true
   },
   "source": [
    "## Select File for Training"
   ]
  },
  {
   "cell_type": "code",
   "execution_count": null,
   "metadata": {
    "hidden": true,
    "scrolled": true
   },
   "outputs": [],
   "source": [
    "from IPython import display\n",
    "from ipyfilechooser import FileChooser\n",
    "from IPython.display import display\n",
    "from IPython.display import IFrame\n",
    "import ipywidgets as widgets\n",
    "from IPython.display import Video\n",
    "\n",
    "output2 = widgets.Output()\n",
    "# ========== FileChooser ==========\n",
    "# Create and display a FileChooser widget\n",
    "fc2 = FileChooser('./Data Folder')\n",
    "display(fc2)\n",
    "\n",
    "# Restrict navigation to /Users\n",
    "fc2.sandbox_path = './Data Folder'\n",
    "\n",
    "# Change hidden files\n",
    "fc2.show_hidden = False\n",
    "\n",
    "# Switch to folder-only mode\n",
    "fc2.show_only_dirs = False\n",
    "\n",
    "# Change the title (use '' to hide)\n",
    "fc2.title = '<b>Select File for Training</b>'\n",
    "\n",
    "# Sample callback function\n",
    "def change_display_selected(chooser):\n",
    "    with output2:\n",
    "#         print(fc2.selected_filename, end='\\r')\n",
    "        print(fc2.selected_path+\"\\\\\"+fc2.selected_filename, end='\\r')\n",
    "#     runVid(fc2.selected_path+\"\\\\\"+fc2.selected_filename)\n",
    "#         Video(fc2.selected_path+\"\\\\\"+fc2.selected_filename)\n",
    "    \n",
    "# Register callback function\n",
    "fc2.register_callback(change_display_selected)\n",
    "# ========== END FileChooser END ==========\n",
    "display(output2)"
   ]
  },
  {
   "cell_type": "markdown",
   "metadata": {
    "heading_collapsed": true
   },
   "source": [
    "# Testing"
   ]
  },
  {
   "cell_type": "markdown",
   "metadata": {
    "hidden": true
   },
   "source": [
    "Insert testing components"
   ]
  }
 ],
 "metadata": {
  "celltoolbar": "Initialization Cell",
  "colab": {
   "authorship_tag": "ABX9TyN+EoD2onQTKrdDorGCO8Sd",
   "provenance": []
  },
  "kernelspec": {
   "display_name": "Python 3 (ipykernel)",
   "language": "python",
   "name": "python3"
  },
  "language_info": {
   "codemirror_mode": {
    "name": "ipython",
    "version": 3
   },
   "file_extension": ".py",
   "mimetype": "text/x-python",
   "name": "python",
   "nbconvert_exporter": "python",
   "pygments_lexer": "ipython3",
   "version": "3.10.7"
  },
  "toc": {
   "base_numbering": 1,
   "nav_menu": {},
   "number_sections": true,
   "sideBar": true,
   "skip_h1_title": false,
   "title_cell": "Table of Contents",
   "title_sidebar": "Contents",
   "toc_cell": false,
   "toc_position": {},
   "toc_section_display": true,
   "toc_window_display": false
  },
  "varInspector": {
   "cols": {
    "lenName": 16,
    "lenType": 16,
    "lenVar": 40
   },
   "kernels_config": {
    "python": {
     "delete_cmd_postfix": "",
     "delete_cmd_prefix": "del ",
     "library": "var_list.py",
     "varRefreshCmd": "print(var_dic_list())"
    },
    "r": {
     "delete_cmd_postfix": ") ",
     "delete_cmd_prefix": "rm(",
     "library": "var_list.r",
     "varRefreshCmd": "cat(var_dic_list()) "
    }
   },
   "types_to_exclude": [
    "module",
    "function",
    "builtin_function_or_method",
    "instance",
    "_Feature"
   ],
   "window_display": false
  }
 },
 "nbformat": 4,
 "nbformat_minor": 1
}
