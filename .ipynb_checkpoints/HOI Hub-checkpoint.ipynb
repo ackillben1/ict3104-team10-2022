{
 "cells": [
  {
   "cell_type": "code",
   "execution_count": 1,
   "metadata": {
    "id": "iAH-1vx4sGlg"
   },
   "outputs": [
    {
     "name": "stdout",
     "output_type": "stream",
     "text": [
      "Testing push R4-T10-17\n"
     ]
    }
   ],
   "source": [
    "msg = \"Testing push R4-T10-17\"\n",
    "\n",
    "print(msg)"
   ]
  }
 ],
 "metadata": {
  "colab": {
   "authorship_tag": "ABX9TyN+EoD2onQTKrdDorGCO8Sd",
   "provenance": []
  },
  "kernelspec": {
   "display_name": "Python 3 (ipykernel)",
   "language": "python",
   "name": "python3"
  },
  "language_info": {
   "codemirror_mode": {
    "name": "ipython",
    "version": 3
   },
   "file_extension": ".py",
   "mimetype": "text/x-python",
   "name": "python",
   "nbconvert_exporter": "python",
   "pygments_lexer": "ipython3",
   "version": "3.10.7"
  },
  "vscode": {
   "interpreter": {
    "hash": "4c9cef967a77347222c99b64e5407893f2de67b77139ecfb0ce46b3f265a3365"
   }
  }
 },
 "nbformat": 4,
 "nbformat_minor": 1
}
